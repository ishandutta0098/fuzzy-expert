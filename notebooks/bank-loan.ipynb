{
 "cells": [
  {
   "cell_type": "code",
   "execution_count": null,
   "id": "fda07d0f-3958-4ea3-9474-34a43adc175e",
   "metadata": {},
   "outputs": [],
   "source": [
    "import warnings\n",
    "\n",
    "warnings.filterwarnings(\"ignore\")"
   ]
  },
  {
   "cell_type": "code",
   "execution_count": 2,
   "metadata": {},
   "outputs": [
    {
     "output_type": "stream",
     "name": "stdout",
     "text": [
      "/workspaces/fuzzy-expert/notebooks\n"
     ]
    }
   ],
   "source": [
    "!pwd"
   ]
  },
  {
   "cell_type": "code",
   "execution_count": null,
   "id": "de81d195-7d2b-4b20-be38-4943fbc8e084",
   "metadata": {},
   "outputs": [],
   "source": [
    "!pwd"
   ]
  },
  {
   "cell_type": "code",
   "execution_count": null,
   "id": "38136d74-0c03-4cc6-821a-fab62da91f74",
   "metadata": {
    "tags": []
   },
   "outputs": [],
   "source": [
    "!pip uninstall --quiet -y  fuzzy_expert\n",
    "!pip3 install --quiet --use-feature=in-tree-build  --upgrade -e /workspaces/fuzzy-expert/"
   ]
  },
  {
   "cell_type": "code",
   "execution_count": 3,
   "id": "d0b87f10-2777-43f0-ab20-9c516cf20dd3",
   "metadata": {
    "tags": []
   },
   "outputs": [
    {
     "output_type": "error",
     "ename": "ImportError",
     "evalue": "attempted relative import with no known parent package",
     "traceback": [
      "\u001b[0;31m---------------------------------------------------------------------------\u001b[0m",
      "\u001b[0;31mImportError\u001b[0m                               Traceback (most recent call last)",
      "\u001b[0;32m<ipython-input-3-cdd92c0c4011>\u001b[0m in \u001b[0;36m<module>\u001b[0;34m\u001b[0m\n\u001b[1;32m      2\u001b[0m \u001b[0;32mimport\u001b[0m \u001b[0mnumpy\u001b[0m \u001b[0;32mas\u001b[0m \u001b[0mnp\u001b[0m\u001b[0;34m\u001b[0m\u001b[0;34m\u001b[0m\u001b[0m\n\u001b[1;32m      3\u001b[0m \u001b[0;34m\u001b[0m\u001b[0m\n\u001b[0;32m----> 4\u001b[0;31m \u001b[0;32mfrom\u001b[0m \u001b[0;34m.\u001b[0m\u001b[0;34m.\u001b[0m\u001b[0mfuzzy_expert\u001b[0m\u001b[0;34m.\u001b[0m\u001b[0mvariable\u001b[0m \u001b[0;32mimport\u001b[0m \u001b[0mFuzzyVariable\u001b[0m\u001b[0;34m\u001b[0m\u001b[0;34m\u001b[0m\u001b[0m\n\u001b[0m\u001b[1;32m      5\u001b[0m \u001b[0;34m\u001b[0m\u001b[0m\n\u001b[1;32m      6\u001b[0m variables = {\n",
      "\u001b[0;31mImportError\u001b[0m: attempted relative import with no known parent package"
     ]
    }
   ],
   "source": [
    "import matplotlib.pyplot as plt\n",
    "import numpy as np\n",
    "\n",
    "from fuzzy_expert.variable import FuzzyVariable\n",
    "\n",
    "variables = {\n",
    "    \"score\": FuzzyVariable(\n",
    "        universe_range=(150, 200),\n",
    "        terms={\n",
    "            \"High\": [(175, 0), (180, 0.2), (185, 0.7), (190, 1)],\n",
    "            \"Low\": [(155, 1), (160, 0.8), (165, 0.5), (170, 0.2), (175, 0)],\n",
    "        },\n",
    "    ),\n",
    "    \"ratio\": FuzzyVariable(\n",
    "        universe_range=(0.1, 1),\n",
    "        terms={\n",
    "            \"Goodr\": [(0.3, 1), (0.4, 0.7), (0.41, 0.3), (0.42, 0)],\n",
    "            \"Badr\": [(0.44, 0), (0.45, 0.3), (0.5, 0.7), (0.7, 1)],\n",
    "        },\n",
    "    ),\n",
    "    #\n",
    "    \"credit\": FuzzyVariable(\n",
    "        universe_range=(0, 10),\n",
    "        terms={\n",
    "            \"Goodc\": [(2, 1), (3, 0.7), (4, 0.3), (5, 0)],\n",
    "            \"Badc\": [(5, 0), (6, 0.3), (7, 0.7), (8, 1)],\n",
    "        },\n",
    "    ),\n",
    "    #\n",
    "    \"decision\": FuzzyVariable(\n",
    "        universe_range=(0, 10),\n",
    "        terms={\n",
    "            \"Approve\": [(5, 0), (6, 0.3), (7, 0.7), (8, 1)],\n",
    "            \"Reject\": [(2, 1), (3, 0.7), (4, 0.3), (5, 0)],\n",
    "        },\n",
    "    ),\n",
    "    #\n",
    "    \"other_decision\": FuzzyVariable(\n",
    "        universe_range=(0, 10),\n",
    "        terms={\n",
    "            \"Approve\": [(5, 0), (6, 0.3), (7, 0.7), (8, 1)],\n",
    "            \"Reject\": [(2, 1), (3, 0.7), (4, 0.3), (5, 0)],\n",
    "        },\n",
    "    ),\n",
    "}\n",
    "\n",
    "plt.figure(figsize=(10, 2.5))\n",
    "variables[\"score\"].plot()"
   ]
  },
  {
   "cell_type": "markdown",
   "id": "92306449-65fb-4a5f-839f-ffd16da1d47e",
   "metadata": {},
   "source": [
    "# Fig. 3"
   ]
  },
  {
   "cell_type": "code",
   "execution_count": 4,
   "id": "90ec945e-a099-42f2-97c7-9bf083bd6782",
   "metadata": {},
   "outputs": [
    {
     "name": "stdout",
     "output_type": "stream",
     "text": [
      "IF  score IS High\n",
      "    AND ratio IS Goodr\n",
      "    AND credit IS Goodc\n",
      "THEN\n",
      "    decision IS Approve\n",
      "CF = 1.00\n",
      "Threshold-CF = 1.00\n",
      "\n",
      "\n",
      "IF  score IS Low\n",
      "    AND ratio IS Badr\n",
      "    OR credit IS Badc\n",
      "THEN\n",
      "    decision IS Reject\n",
      "CF = 1.00\n",
      "Threshold-CF = 1.00\n",
      "\n"
     ]
    }
   ],
   "source": [
    "from fuzzy_expert.rule import FuzzyRule\n",
    "\n",
    "rule_1 = FuzzyRule(\n",
    "    premise=[\n",
    "        (\"score\", \"High\"),\n",
    "        (\"AND\", \"ratio\", \"Goodr\"),\n",
    "        (\"AND\", \"credit\", \"Goodc\"),\n",
    "    ],\n",
    "    consequence=[(\"decision\", \"Approve\")],\n",
    ")\n",
    "\n",
    "rule_2 = FuzzyRule(\n",
    "    premise=[\n",
    "        (\"score\", \"Low\"),\n",
    "        (\"AND\", \"ratio\", \"Badr\"),\n",
    "        (\"OR\", \"credit\", \"Badc\"),\n",
    "    ],\n",
    "    consequence=[(\"decision\", \"Reject\")],\n",
    ")\n",
    "\n",
    "print(rule_1)\n",
    "print()\n",
    "print(rule_2)"
   ]
  },
  {
   "cell_type": "markdown",
   "id": "7f9b18dc-adb5-4c67-a0e0-f112c28b53b2",
   "metadata": {},
   "source": [
    "# Fig. 4"
   ]
  },
  {
   "cell_type": "code",
   "execution_count": 6,
   "id": "04a10e39-ec50-42ad-99f8-2417b482f068",
   "metadata": {},
   "outputs": [
    {
     "data": {
      "text/plain": [
       "({'decision': 8.02328616848237}, 1.0)"
      ]
     },
     "execution_count": 6,
     "metadata": {},
     "output_type": "execute_result"
    }
   ],
   "source": [
    "from fuzzy_expert.inference import DecompositionalInference\n",
    "\n",
    "model = DecompositionalInference(\n",
    "    and_operator=\"min\",\n",
    "    or_operator=\"max\",\n",
    "    implication_operator=\"Rc\",\n",
    "    composition_operator=\"max-min\",\n",
    "    production_link=\"max\",\n",
    "    defuzzification_operator=\"cog\",\n",
    ")\n",
    "\n",
    "model(\n",
    "    variables=variables,\n",
    "    rules=[rule_1, rule_2],\n",
    "    score=190,\n",
    "    ratio=0.39,\n",
    "    credit=1.5,\n",
    ")"
   ]
  },
  {
   "cell_type": "markdown",
   "id": "a9a4ffb5-147c-4821-9fc3-8f0f9e24bf0a",
   "metadata": {},
   "source": [
    "# Fig. 5"
   ]
  },
  {
   "cell_type": "code",
   "execution_count": null,
   "id": "1e33494a-2c04-4abd-9aa6-cdf830a99daa",
   "metadata": {},
   "outputs": [],
   "source": [
    "from ipywidgets import interact, widgets\n",
    "\n",
    "def demo(score, ratio, credit):\n",
    "    plt.figure(figsize=(10,6))    \n",
    "    model.plot(\n",
    "        rules = [rule_1, rule_2],\n",
    "        score=score,\n",
    "        ratio=ratio,\n",
    "        credit=credit,\n",
    "    )\n",
    "\n",
    "interact(\n",
    "    demo, \n",
    "    score=widgets.FloatSlider(min=150, max=200),\n",
    "    ratio=widgets.FloatSlider(min=0.1, max=1),\n",
    "    credit=widgets.FloatSlider(min=0, max=10),\n",
    ")"
   ]
  },
  {
   "cell_type": "markdown",
   "id": "69bc8c54-b694-41b9-97b6-55ff2d20fab8",
   "metadata": {},
   "source": [
    "# Fig. 6"
   ]
  },
  {
   "cell_type": "code",
   "execution_count": 7,
   "id": "db3d7615-e146-473f-b748-4921d6d5950f",
   "metadata": {},
   "outputs": [
    {
     "ename": "AttributeError",
     "evalue": "'DecompositionalInference' object has no attribute 'plot'",
     "output_type": "error",
     "traceback": [
      "\u001b[0;31m---------------------------------------------------------------------------\u001b[0m",
      "\u001b[0;31mAttributeError\u001b[0m                            Traceback (most recent call last)",
      "\u001b[0;32m<ipython-input-7-c73bce9d8ba9>\u001b[0m in \u001b[0;36m<module>\u001b[0;34m\u001b[0m\n\u001b[1;32m     14\u001b[0m \u001b[0;34m\u001b[0m\u001b[0m\n\u001b[1;32m     15\u001b[0m \u001b[0mplt\u001b[0m\u001b[0;34m.\u001b[0m\u001b[0mfigure\u001b[0m\u001b[0;34m(\u001b[0m\u001b[0mfigsize\u001b[0m\u001b[0;34m=\u001b[0m\u001b[0;34m(\u001b[0m\u001b[0;36m10\u001b[0m\u001b[0;34m,\u001b[0m\u001b[0;36m6\u001b[0m\u001b[0;34m)\u001b[0m\u001b[0;34m)\u001b[0m\u001b[0;34m\u001b[0m\u001b[0;34m\u001b[0m\u001b[0m\n\u001b[0;32m---> 16\u001b[0;31m model.plot(\n\u001b[0m\u001b[1;32m     17\u001b[0m     \u001b[0mvariables\u001b[0m\u001b[0;34m=\u001b[0m\u001b[0mvariables\u001b[0m\u001b[0;34m,\u001b[0m\u001b[0;34m\u001b[0m\u001b[0;34m\u001b[0m\u001b[0m\n\u001b[1;32m     18\u001b[0m     \u001b[0mrules\u001b[0m\u001b[0;34m=\u001b[0m\u001b[0;34m[\u001b[0m\u001b[0mrule_1\u001b[0m\u001b[0;34m,\u001b[0m \u001b[0mrule_2\u001b[0m\u001b[0;34m]\u001b[0m\u001b[0;34m,\u001b[0m\u001b[0;34m\u001b[0m\u001b[0;34m\u001b[0m\u001b[0m\n",
      "\u001b[0;31mAttributeError\u001b[0m: 'DecompositionalInference' object has no attribute 'plot'"
     ]
    },
    {
     "data": {
      "text/plain": [
       "<Figure size 720x432 with 0 Axes>"
      ]
     },
     "metadata": {},
     "output_type": "display_data"
    }
   ],
   "source": [
    "model = DecompositionalInference(\n",
    "    and_operator=\"min\",\n",
    "    or_operator=\"max\",\n",
    "    implication_operator=\"Rc\",\n",
    "    composition_operator=\"min\",\n",
    "    production_link=\"max\",\n",
    "    defuzzification_operator=\"cog\",\n",
    ")\n",
    "\n",
    "data_score = [(180, 0.0), (190, 0.2), (195, 0.8), (200, 1.0)]\n",
    "data_ratio = [(0.1, 1), (0.3, 1), (0.4, 0.6), (0.41, 0.2), \n",
    "              (0.42, 0)]\n",
    "data_credit = [(0, 0), (1, 1), (2, 1), (3, 0.0), (4, 0.0)]\n",
    "\n",
    "plt.figure(figsize=(10,6))\n",
    "model.plot(\n",
    "    variables=variables,\n",
    "    rules=[rule_1, rule_2],\n",
    "    score=data_score,\n",
    "    ratio=data_ratio,\n",
    "    credit=data_credit,\n",
    ")"
   ]
  },
  {
   "cell_type": "markdown",
   "id": "21acfe87-1186-47a9-b6ce-f1abb2768b9a",
   "metadata": {},
   "source": [
    "# Fig. 7"
   ]
  },
  {
   "cell_type": "code",
   "execution_count": null,
   "id": "a0f829a5-0b03-4d0b-9ba8-c87e29319c82",
   "metadata": {},
   "outputs": [],
   "source": [
    "data_score = [(150, 0.9), (155, 0.7), (160, 0.5), (165, 0.3), \n",
    "              (170, 0.0)]\n",
    "data_ratio = [(0.44, 0), (0.45, 0.3), (0.5, 0.5), (0.7, 0.7), \n",
    "              (1, 0.9)]\n",
    "data_credit = [(6, 0), (7, 0.3), (8, 0.5), (9, 0.7), (10, 0.9)]\n",
    "\n",
    "plt.figure(figsize=(10,6))\n",
    "model.plot(\n",
    "    rules=[rule_1, rule_2],\n",
    "    score=data_score,\n",
    "    ratio=data_ratio,\n",
    "    credit=data_credit,\n",
    ")"
   ]
  },
  {
   "cell_type": "markdown",
   "id": "8ff414cb-44da-48c7-9c1a-ab55a6820068",
   "metadata": {},
   "source": [
    "# Fig. 8"
   ]
  },
  {
   "cell_type": "code",
   "execution_count": null,
   "id": "322a67f5-f2b9-4283-9371-cdb3d6a683e0",
   "metadata": {},
   "outputs": [],
   "source": [
    "data_score = [(185, 0.0), (190, 0.4), (195, 0.6), (200, 0.8)]\n",
    "data_ratio = [(0.45, 0), (0.5, 0.4), (0.7, 0.6), (1, 0.8)]\n",
    "data_credit = [(2, 1), (3, 0.8), (4, 0.6), (5, 0.4), (6, 0)]\n",
    "\n",
    "plt.figure(figsize=(10,6))\n",
    "model.plot(\n",
    "    rules=[rule_1, rule_2],\n",
    "    score=data_score,\n",
    "    ratio=data_ratio,\n",
    "    credit=data_credit,\n",
    ")"
   ]
  },
  {
   "cell_type": "markdown",
   "id": "a03db7f3-1025-4ac8-8820-60d47488d179",
   "metadata": {},
   "source": [
    "# Fig. 9"
   ]
  },
  {
   "cell_type": "code",
   "execution_count": null,
   "id": "949ae27c-828a-4b62-b7fe-07e3e0b683a0",
   "metadata": {},
   "outputs": [],
   "source": [
    "rule_1 = FuzzyRule(\n",
    "    cf = 0.9,\n",
    "    premises=[\n",
    "        (score, \"High\"),\n",
    "        (\"AND\", ratio, \"Goodr\"),\n",
    "        (\"AND\", credit, \"Goodc\"),\n",
    "    ],\n",
    "    consequence=(decision, \"Approve\"),\n",
    ")\n",
    "\n",
    "rule_2 = FuzzyRule(\n",
    "    cf=0.9,\n",
    "    premises=[\n",
    "        (score, \"Low\"),\n",
    "        (\"AND\", ratio, \"Badr\"),\n",
    "        (\"OR\", credit, \"Badc\"),\n",
    "    ],\n",
    "    consequence=(decision, \"Reject\"),\n",
    ")\n",
    "\n",
    "model(\n",
    "    rules=[rule_1, rule_2],\n",
    "    score=(190, 1),\n",
    "    ratio=(0.39, 0.8),\n",
    "    credit=1.5,\n",
    ")"
   ]
  },
  {
   "cell_type": "code",
   "execution_count": null,
   "id": "560b75a3-3804-4e25-9c54-7320e76eea79",
   "metadata": {},
   "outputs": [],
   "source": []
  }
 ],
 "metadata": {
  "kernelspec": {
   "name": "python3",
   "display_name": "Python 3.9.5 64-bit"
  },
  "language_info": {
   "codemirror_mode": {
    "name": "ipython",
    "version": 3
   },
   "file_extension": ".py",
   "mimetype": "text/x-python",
   "name": "python",
   "nbconvert_exporter": "python",
   "pygments_lexer": "ipython3",
   "version": "3.9.5"
  },
  "interpreter": {
   "hash": "4cd7ab41f5fca4b9b44701077e38c5ffd31fe66a6cab21e0214b68d958d0e462"
  }
 },
 "nbformat": 4,
 "nbformat_minor": 5
}