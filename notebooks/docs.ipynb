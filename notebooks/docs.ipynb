{
 "metadata": {
  "language_info": {
   "codemirror_mode": {
    "name": "ipython",
    "version": 3
   },
   "file_extension": ".py",
   "mimetype": "text/x-python",
   "name": "python",
   "nbconvert_exporter": "python",
   "pygments_lexer": "ipython3",
   "version": "3.9.5"
  },
  "orig_nbformat": 4,
  "kernelspec": {
   "name": "python3",
   "display_name": "Python 3.9.5 64-bit"
  },
  "interpreter": {
   "hash": "4cd7ab41f5fca4b9b44701077e38c5ffd31fe66a6cab21e0214b68d958d0e462"
  }
 },
 "nbformat": 4,
 "nbformat_minor": 2,
 "cells": [
  {
   "cell_type": "code",
   "execution_count": 1,
   "metadata": {},
   "outputs": [],
   "source": [
    "import os\n",
    "\n",
    "os.chdir('/workspaces/fuzzy-expert')"
   ]
  },
  {
   "cell_type": "code",
   "execution_count": 2,
   "metadata": {},
   "outputs": [
    {
     "output_type": "execute_result",
     "data": {
      "text/plain": [
       "array([0.      , 0.015625, 0.125   , 0.421875, 1.      ])"
      ]
     },
     "metadata": {},
     "execution_count": 2
    }
   ],
   "source": [
    "from fuzzy_expert.operators import extremely\n",
    "extremely([0, 0.25, 0.5, 0.75, 1])"
   ]
  },
  {
   "cell_type": "code",
   "execution_count": 3,
   "metadata": {},
   "outputs": [
    {
     "output_type": "execute_result",
     "data": {
      "text/plain": [
       "array([0.    , 0.0625, 0.25  , 0.875 , 1.    ])"
      ]
     },
     "metadata": {},
     "execution_count": 3
    }
   ],
   "source": [
    "from fuzzy_expert.operators import intensify\n",
    "intensify([0, 0.25, 0.5, 0.75, 1])"
   ]
  },
  {
   "cell_type": "code",
   "execution_count": 4,
   "metadata": {},
   "outputs": [
    {
     "output_type": "execute_result",
     "data": {
      "text/plain": [
       "array([0.        , 0.5       , 0.70710678, 0.8660254 , 1.        ])"
      ]
     },
     "metadata": {},
     "execution_count": 4
    }
   ],
   "source": [
    "from fuzzy_expert.operators import more_or_less\n",
    "more_or_less([0, 0.25, 0.5, 0.75, 1])"
   ]
  },
  {
   "cell_type": "code",
   "execution_count": 5,
   "metadata": {},
   "outputs": [
    {
     "output_type": "execute_result",
     "data": {
      "text/plain": [
       "array([0. , 0.5, 1. ])"
      ]
     },
     "metadata": {},
     "execution_count": 5
    }
   ],
   "source": [
    "from fuzzy_expert.operators import norm\n",
    "norm([0, 0.25, 0.5])"
   ]
  },
  {
   "cell_type": "code",
   "execution_count": 6,
   "metadata": {},
   "outputs": [
    {
     "output_type": "execute_result",
     "data": {
      "text/plain": [
       "array([1.  , 0.75, 0.5 , 0.25, 0.  ])"
      ]
     },
     "metadata": {},
     "execution_count": 6
    }
   ],
   "source": [
    "from fuzzy_expert.operators import not_\n",
    "not_([0, 0.25, 0.5, 0.75, 1])"
   ]
  },
  {
   "cell_type": "code",
   "execution_count": 7,
   "metadata": {},
   "outputs": [
    {
     "output_type": "execute_result",
     "data": {
      "text/plain": [
       "array([0.        , 0.1767767 , 0.42044821, 0.69795364, 1.        ])"
      ]
     },
     "metadata": {},
     "execution_count": 7
    }
   ],
   "source": [
    "from fuzzy_expert.operators import plus\n",
    "plus([0, 0.25, 0.5, 0.75, 1])"
   ]
  },
  {
   "cell_type": "code",
   "execution_count": 8,
   "metadata": {},
   "outputs": [
    {
     "output_type": "execute_result",
     "data": {
      "text/plain": [
       "array([0.        , 0.62996052, 0.79370053, 0.9085603 , 1.        ])"
      ]
     },
     "metadata": {},
     "execution_count": 8
    }
   ],
   "source": [
    "from fuzzy_expert.operators import somewhat\n",
    "somewhat([0, 0.25, 0.5, 0.75, 1])"
   ]
  },
  {
   "cell_type": "code",
   "execution_count": 9,
   "metadata": {},
   "outputs": [
    {
     "output_type": "execute_result",
     "data": {
      "text/plain": [
       "array([0.    , 0.0625, 0.25  , 0.5625, 1.    ])"
      ]
     },
     "metadata": {},
     "execution_count": 9
    }
   ],
   "source": [
    "from fuzzy_expert.operators import very\n",
    "very([0, 0.25, 0.5, 0.75, 1])"
   ]
  },
  {
   "cell_type": "code",
   "execution_count": 10,
   "metadata": {},
   "outputs": [
    {
     "output_type": "execute_result",
     "data": {
      "text/plain": [
       "array([0.        , 0.16326531, 0.99696182, 1.        , 0.        ])"
      ]
     },
     "metadata": {},
     "execution_count": 10
    }
   ],
   "source": [
    "from fuzzy_expert.operators import slightly\n",
    "slightly([0, 0.25, 0.5, 0.75, 1])"
   ]
  },
  {
   "cell_type": "code",
   "execution_count": 11,
   "metadata": {},
   "outputs": [
    {
     "output_type": "execute_result",
     "data": {
      "text/plain": [
       "array([0.  , 0.75, 1.  , 1.  , 1.  ])"
      ]
     },
     "metadata": {},
     "execution_count": 11
    }
   ],
   "source": [
    "from fuzzy_expert.operators import bounded_sum\n",
    "x = [0, 0.25, 0.5, 0.75, 1]\n",
    "bounded_sum([x, x, x])"
   ]
  },
  {
   "cell_type": "code",
   "execution_count": 12,
   "metadata": {},
   "outputs": [
    {
     "output_type": "execute_result",
     "data": {
      "text/plain": [
       "array([0., 0., 0., 0., 1.])"
      ]
     },
     "metadata": {},
     "execution_count": 12
    }
   ],
   "source": [
    "from fuzzy_expert.operators import drastic_prod\n",
    "x = [0, 0.25, 0.5, 0.75, 1]\n",
    "y = [1, 0.75, 0.5, 0.25, 0]\n",
    "drastic_prod([x, y])"
   ]
  },
  {
   "cell_type": "code",
   "execution_count": 13,
   "metadata": {},
   "outputs": [
    {
     "output_type": "execute_result",
     "data": {
      "text/plain": [
       "array([0.1, 1. , 1. , 1. , 0.3])"
      ]
     },
     "metadata": {},
     "execution_count": 13
    }
   ],
   "source": [
    "from fuzzy_expert.operators import drastic_sum\n",
    "x = [0.1, 0.25, 0.5, 0.75, 0.3]\n",
    "y = [0, 0.75, 0.5, 0.25, 0]\n",
    "drastic_sum([x, y])"
   ]
  },
  {
   "cell_type": "code",
   "execution_count": 14,
   "metadata": {},
   "outputs": [
    {
     "output_type": "execute_result",
     "data": {
      "text/plain": [
       "array([0.      , 0.015625, 0.125   , 0.421875, 1.      ])"
      ]
     },
     "metadata": {},
     "execution_count": 14
    }
   ],
   "source": [
    "from fuzzy_expert.operators import product\n",
    "x = [0, 0.25, 0.5, 0.75, 1]\n",
    "product([x, x, x])"
   ]
  },
  {
   "cell_type": "code",
   "execution_count": 15,
   "metadata": {},
   "outputs": [
    {
     "output_type": "execute_result",
     "data": {
      "text/plain": [
       "array([0.1 , 0.75, 0.5 , 0.75, 0.3 ])"
      ]
     },
     "metadata": {},
     "execution_count": 15
    }
   ],
   "source": [
    "from fuzzy_expert.operators import maximum\n",
    "x = [0.1, 0.25, 0.5, 0.75, 0.3]\n",
    "y = [0, 0.75, 0.5, 0.25, 0]\n",
    "maximum([x, y])"
   ]
  },
  {
   "cell_type": "code",
   "execution_count": 16,
   "metadata": {},
   "outputs": [
    {
     "output_type": "execute_result",
     "data": {
      "text/plain": [
       "array([0.  , 0.25, 0.5 , 0.25, 0.  ])"
      ]
     },
     "metadata": {},
     "execution_count": 16
    }
   ],
   "source": [
    "from fuzzy_expert.operators import minimum\n",
    "x = [0.1, 0.25, 0.5, 0.75, 0.3]\n",
    "y = [0, 0.75, 0.5, 0.25, 0]\n",
    "minimum([x, y])"
   ]
  },
  {
   "cell_type": "code",
   "execution_count": 17,
   "metadata": {},
   "outputs": [
    {
     "output_type": "execute_result",
     "data": {
      "text/plain": [
       "array([1.    , 0.9375, 0.75  , 0.4375, 0.    ])"
      ]
     },
     "metadata": {},
     "execution_count": 17
    }
   ],
   "source": [
    "from fuzzy_expert.operators import apply_modifiers\n",
    "x = [0.0, 0.25, 0.5, 0.75, 1]\n",
    "apply_modifiers(x, ('not', 'very'))\n"
   ]
  },
  {
   "cell_type": "code",
   "execution_count": 18,
   "metadata": {},
   "outputs": [
    {
     "output_type": "execute_result",
     "data": {
      "text/plain": [
       "array([0.1   , 0.8125, 0.75  , 0.8125, 0.3   ])"
      ]
     },
     "metadata": {},
     "execution_count": 18
    }
   ],
   "source": [
    "from fuzzy_expert.operators import prob_or\n",
    "x = [0.1, 0.25, 0.5, 0.75, 0.3]\n",
    "y = [0, 0.75, 0.5, 0.25, 0]\n",
    "prob_or([x, y])"
   ]
  },
  {
   "cell_type": "code",
   "execution_count": 19,
   "metadata": {},
   "outputs": [
    {
     "output_type": "execute_result",
     "data": {
      "text/plain": [
       "array([0. , 0. , 0. , 0.5, 1. ])"
      ]
     },
     "metadata": {},
     "execution_count": 19
    }
   ],
   "source": [
    ">>> from fuzzy_expert.operators import bounded_prod\n",
    ">>> x = [0.1, 0.25, 0.5, 0.75, 1]\n",
    ">>> bounded_prod([x, x])"
   ]
  },
  {
   "cell_type": "code",
   "execution_count": 20,
   "metadata": {},
   "outputs": [
    {
     "output_type": "execute_result",
     "data": {
      "text/plain": [
       "array([0.  , 0.  , 0.  , 0.15, 0.3 ])"
      ]
     },
     "metadata": {},
     "execution_count": 20
    }
   ],
   "source": [
    "    >>> from fuzzy_expert.operators import bounded_diff\n",
    "    >>> x = [0, 0.25, 0.5, 0.75, 1]\n",
    "    >>> y = [0, 0.25, 0.5, 0.6, 0.7]\n",
    "    >>> bounded_diff([x, y])"
   ]
  },
  {
   "cell_type": "code",
   "execution_count": 21,
   "metadata": {},
   "outputs": [
    {
     "output_type": "execute_result",
     "data": {
      "text/plain": [
       "2.9166666666666665"
      ]
     },
     "metadata": {},
     "execution_count": 21
    }
   ],
   "source": [
    "    >>> from fuzzy_expert.operators import defuzzificate\n",
    "    >>> u = [0, 1,   2, 3, 4]\n",
    "    >>> m = [0, 0, 0.5, 1, 1]\n",
    "    >>> defuzzificate(u, m, \"cog\")"
   ]
  },
  {
   "cell_type": "code",
   "execution_count": 22,
   "metadata": {},
   "outputs": [
    {
     "output_type": "execute_result",
     "data": {
      "text/plain": [
       "3.0"
      ]
     },
     "metadata": {},
     "execution_count": 22
    }
   ],
   "source": [
    "    >>> from fuzzy_expert.operators import defuzzificate\n",
    "    >>> u = [0, 1,   2, 3, 4]\n",
    "    >>> m = [0, 0, 0.5, 1, 1]\n",
    "    >>> defuzzificate(u, m, \"boa\")"
   ]
  },
  {
   "cell_type": "code",
   "execution_count": 23,
   "metadata": {},
   "outputs": [
    {
     "output_type": "execute_result",
     "data": {
      "text/plain": [
       "3.5"
      ]
     },
     "metadata": {},
     "execution_count": 23
    }
   ],
   "source": [
    "    >>> from fuzzy_expert.operators import defuzzificate\n",
    "    >>> u = [0, 1,   2, 3, 4]\n",
    "    >>> m = [0, 0, 0.5, 1, 1]\n",
    "    >>> defuzzificate(u, m, \"mom\")"
   ]
  },
  {
   "cell_type": "code",
   "execution_count": 24,
   "metadata": {},
   "outputs": [
    {
     "output_type": "execute_result",
     "data": {
      "text/plain": [
       "4"
      ]
     },
     "metadata": {},
     "execution_count": 24
    }
   ],
   "source": [
    "    >>> from fuzzy_expert.operators import defuzzificate\n",
    "    >>> u = [0, 1,   2, 3, 4]\n",
    "    >>> m = [0, 0, 0.5, 1, 1]\n",
    "    >>> defuzzificate(u, m, \"lom\")"
   ]
  },
  {
   "cell_type": "code",
   "execution_count": 25,
   "metadata": {},
   "outputs": [
    {
     "output_type": "execute_result",
     "data": {
      "text/plain": [
       "3"
      ]
     },
     "metadata": {},
     "execution_count": 25
    }
   ],
   "source": [
    "    >>> from fuzzy_expert.operators import defuzzificate\n",
    "    >>> u = [0, 1,   2, 3, 4]\n",
    "    >>> m = [0, 0, 0.5, 1, 1]\n",
    "    >>> defuzzificate(u, m, \"som\")"
   ]
  },
  {
   "cell_type": "code",
   "execution_count": 27,
   "metadata": {},
   "outputs": [
    {
     "output_type": "execute_result",
     "data": {
      "text/plain": [
       "[(2, 0),\n",
       " (3.0, 0.1353352832366127),\n",
       " (3.8, 0.48675225595997157),\n",
       " (4.6, 0.9231163463866356),\n",
       " (5.0, 1.0),\n",
       " (5.4, 0.9231163463866356),\n",
       " (6.2, 0.48675225595997157),\n",
       " (7.0, 0.1353352832366127),\n",
       " (8, 0)]"
      ]
     },
     "metadata": {},
     "execution_count": 27
    }
   ],
   "source": [
    "    >>> from fuzzy_expert.mf import MembershipFunction\n",
    "    >>> mf = MembershipFunction(n_points=3)\n",
    "    >>> mf(('gaussmf', 5, 1))"
   ]
  },
  {
   "cell_type": "code",
   "execution_count": null,
   "metadata": {},
   "outputs": [],
   "source": []
  },
  {
   "cell_type": "code",
   "execution_count": 28,
   "metadata": {},
   "outputs": [
    {
     "output_type": "display_data",
     "data": {
      "text/plain": "<Figure size 432x288 with 1 Axes>",
      "image/svg+xml": "<?xml version=\"1.0\" encoding=\"utf-8\" standalone=\"no\"?>\n<!DOCTYPE svg PUBLIC \"-//W3C//DTD SVG 1.1//EN\"\n  \"http://www.w3.org/Graphics/SVG/1.1/DTD/svg11.dtd\">\n<svg height=\"248.518125pt\" version=\"1.1\" viewBox=\"0 0 372.103125 248.518125\" width=\"372.103125pt\" xmlns=\"http://www.w3.org/2000/svg\" xmlns:xlink=\"http://www.w3.org/1999/xlink\">\n <metadata>\n  <rdf:RDF xmlns:cc=\"http://creativecommons.org/ns#\" xmlns:dc=\"http://purl.org/dc/elements/1.1/\" xmlns:rdf=\"http://www.w3.org/1999/02/22-rdf-syntax-ns#\">\n   <cc:Work>\n    <dc:type rdf:resource=\"http://purl.org/dc/dcmitype/StillImage\"/>\n    <dc:date>2021-06-24T17:32:19.684833</dc:date>\n    <dc:format>image/svg+xml</dc:format>\n    <dc:creator>\n     <cc:Agent>\n      <dc:title>Matplotlib v3.4.2, https://matplotlib.org/</dc:title>\n     </cc:Agent>\n    </dc:creator>\n   </cc:Work>\n  </rdf:RDF>\n </metadata>\n <defs>\n  <style type=\"text/css\">*{stroke-linecap:butt;stroke-linejoin:round;}</style>\n </defs>\n <g id=\"figure_1\">\n  <g id=\"patch_1\">\n   <path d=\"M 0 248.518125 \nL 372.103125 248.518125 \nL 372.103125 0 \nL 0 0 \nz\n\" style=\"fill:none;\"/>\n  </g>\n  <g id=\"axes_1\">\n   <g id=\"patch_2\">\n    <path d=\"M 30.103125 224.64 \nL 364.903125 224.64 \nL 364.903125 7.2 \nL 30.103125 7.2 \nz\n\" style=\"fill:#ffffff;\"/>\n   </g>\n   <g id=\"matplotlib.axis_1\">\n    <g id=\"xtick_1\">\n     <g id=\"line2d_1\">\n      <defs>\n       <path d=\"M 0 0 \nL 0 3.5 \n\" id=\"mc45da08ce4\" style=\"stroke:#000000;stroke-width:0.8;\"/>\n      </defs>\n      <g>\n       <use style=\"stroke:#000000;stroke-width:0.8;\" x=\"45.321307\" xlink:href=\"#mc45da08ce4\" y=\"224.64\"/>\n      </g>\n     </g>\n     <g id=\"text_1\">\n      <!-- 150 -->\n      <g transform=\"translate(35.777557 239.238437)scale(0.1 -0.1)\">\n       <defs>\n        <path d=\"M 794 531 \nL 1825 531 \nL 1825 4091 \nL 703 3866 \nL 703 4441 \nL 1819 4666 \nL 2450 4666 \nL 2450 531 \nL 3481 531 \nL 3481 0 \nL 794 0 \nL 794 531 \nz\n\" id=\"DejaVuSans-31\" transform=\"scale(0.015625)\"/>\n        <path d=\"M 691 4666 \nL 3169 4666 \nL 3169 4134 \nL 1269 4134 \nL 1269 2991 \nQ 1406 3038 1543 3061 \nQ 1681 3084 1819 3084 \nQ 2600 3084 3056 2656 \nQ 3513 2228 3513 1497 \nQ 3513 744 3044 326 \nQ 2575 -91 1722 -91 \nQ 1428 -91 1123 -41 \nQ 819 9 494 109 \nL 494 744 \nQ 775 591 1075 516 \nQ 1375 441 1709 441 \nQ 2250 441 2565 725 \nQ 2881 1009 2881 1497 \nQ 2881 1984 2565 2268 \nQ 2250 2553 1709 2553 \nQ 1456 2553 1204 2497 \nQ 953 2441 691 2322 \nL 691 4666 \nz\n\" id=\"DejaVuSans-35\" transform=\"scale(0.015625)\"/>\n        <path d=\"M 2034 4250 \nQ 1547 4250 1301 3770 \nQ 1056 3291 1056 2328 \nQ 1056 1369 1301 889 \nQ 1547 409 2034 409 \nQ 2525 409 2770 889 \nQ 3016 1369 3016 2328 \nQ 3016 3291 2770 3770 \nQ 2525 4250 2034 4250 \nz\nM 2034 4750 \nQ 2819 4750 3233 4129 \nQ 3647 3509 3647 2328 \nQ 3647 1150 3233 529 \nQ 2819 -91 2034 -91 \nQ 1250 -91 836 529 \nQ 422 1150 422 2328 \nQ 422 3509 836 4129 \nQ 1250 4750 2034 4750 \nz\n\" id=\"DejaVuSans-30\" transform=\"scale(0.015625)\"/>\n       </defs>\n       <use xlink:href=\"#DejaVuSans-31\"/>\n       <use x=\"63.623047\" xlink:href=\"#DejaVuSans-35\"/>\n       <use x=\"127.246094\" xlink:href=\"#DejaVuSans-30\"/>\n      </g>\n     </g>\n    </g>\n    <g id=\"xtick_2\">\n     <g id=\"line2d_2\">\n      <g>\n       <use style=\"stroke:#000000;stroke-width:0.8;\" x=\"106.194034\" xlink:href=\"#mc45da08ce4\" y=\"224.64\"/>\n      </g>\n     </g>\n     <g id=\"text_2\">\n      <!-- 160 -->\n      <g transform=\"translate(96.650284 239.238437)scale(0.1 -0.1)\">\n       <defs>\n        <path d=\"M 2113 2584 \nQ 1688 2584 1439 2293 \nQ 1191 2003 1191 1497 \nQ 1191 994 1439 701 \nQ 1688 409 2113 409 \nQ 2538 409 2786 701 \nQ 3034 994 3034 1497 \nQ 3034 2003 2786 2293 \nQ 2538 2584 2113 2584 \nz\nM 3366 4563 \nL 3366 3988 \nQ 3128 4100 2886 4159 \nQ 2644 4219 2406 4219 \nQ 1781 4219 1451 3797 \nQ 1122 3375 1075 2522 \nQ 1259 2794 1537 2939 \nQ 1816 3084 2150 3084 \nQ 2853 3084 3261 2657 \nQ 3669 2231 3669 1497 \nQ 3669 778 3244 343 \nQ 2819 -91 2113 -91 \nQ 1303 -91 875 529 \nQ 447 1150 447 2328 \nQ 447 3434 972 4092 \nQ 1497 4750 2381 4750 \nQ 2619 4750 2861 4703 \nQ 3103 4656 3366 4563 \nz\n\" id=\"DejaVuSans-36\" transform=\"scale(0.015625)\"/>\n       </defs>\n       <use xlink:href=\"#DejaVuSans-31\"/>\n       <use x=\"63.623047\" xlink:href=\"#DejaVuSans-36\"/>\n       <use x=\"127.246094\" xlink:href=\"#DejaVuSans-30\"/>\n      </g>\n     </g>\n    </g>\n    <g id=\"xtick_3\">\n     <g id=\"line2d_3\">\n      <g>\n       <use style=\"stroke:#000000;stroke-width:0.8;\" x=\"167.066761\" xlink:href=\"#mc45da08ce4\" y=\"224.64\"/>\n      </g>\n     </g>\n     <g id=\"text_3\">\n      <!-- 170 -->\n      <g transform=\"translate(157.523011 239.238437)scale(0.1 -0.1)\">\n       <defs>\n        <path d=\"M 525 4666 \nL 3525 4666 \nL 3525 4397 \nL 1831 0 \nL 1172 0 \nL 2766 4134 \nL 525 4134 \nL 525 4666 \nz\n\" id=\"DejaVuSans-37\" transform=\"scale(0.015625)\"/>\n       </defs>\n       <use xlink:href=\"#DejaVuSans-31\"/>\n       <use x=\"63.623047\" xlink:href=\"#DejaVuSans-37\"/>\n       <use x=\"127.246094\" xlink:href=\"#DejaVuSans-30\"/>\n      </g>\n     </g>\n    </g>\n    <g id=\"xtick_4\">\n     <g id=\"line2d_4\">\n      <g>\n       <use style=\"stroke:#000000;stroke-width:0.8;\" x=\"227.939489\" xlink:href=\"#mc45da08ce4\" y=\"224.64\"/>\n      </g>\n     </g>\n     <g id=\"text_4\">\n      <!-- 180 -->\n      <g transform=\"translate(218.395739 239.238437)scale(0.1 -0.1)\">\n       <defs>\n        <path d=\"M 2034 2216 \nQ 1584 2216 1326 1975 \nQ 1069 1734 1069 1313 \nQ 1069 891 1326 650 \nQ 1584 409 2034 409 \nQ 2484 409 2743 651 \nQ 3003 894 3003 1313 \nQ 3003 1734 2745 1975 \nQ 2488 2216 2034 2216 \nz\nM 1403 2484 \nQ 997 2584 770 2862 \nQ 544 3141 544 3541 \nQ 544 4100 942 4425 \nQ 1341 4750 2034 4750 \nQ 2731 4750 3128 4425 \nQ 3525 4100 3525 3541 \nQ 3525 3141 3298 2862 \nQ 3072 2584 2669 2484 \nQ 3125 2378 3379 2068 \nQ 3634 1759 3634 1313 \nQ 3634 634 3220 271 \nQ 2806 -91 2034 -91 \nQ 1263 -91 848 271 \nQ 434 634 434 1313 \nQ 434 1759 690 2068 \nQ 947 2378 1403 2484 \nz\nM 1172 3481 \nQ 1172 3119 1398 2916 \nQ 1625 2713 2034 2713 \nQ 2441 2713 2670 2916 \nQ 2900 3119 2900 3481 \nQ 2900 3844 2670 4047 \nQ 2441 4250 2034 4250 \nQ 1625 4250 1398 4047 \nQ 1172 3844 1172 3481 \nz\n\" id=\"DejaVuSans-38\" transform=\"scale(0.015625)\"/>\n       </defs>\n       <use xlink:href=\"#DejaVuSans-31\"/>\n       <use x=\"63.623047\" xlink:href=\"#DejaVuSans-38\"/>\n       <use x=\"127.246094\" xlink:href=\"#DejaVuSans-30\"/>\n      </g>\n     </g>\n    </g>\n    <g id=\"xtick_5\">\n     <g id=\"line2d_5\">\n      <g>\n       <use style=\"stroke:#000000;stroke-width:0.8;\" x=\"288.812216\" xlink:href=\"#mc45da08ce4\" y=\"224.64\"/>\n      </g>\n     </g>\n     <g id=\"text_5\">\n      <!-- 190 -->\n      <g transform=\"translate(279.268466 239.238437)scale(0.1 -0.1)\">\n       <defs>\n        <path d=\"M 703 97 \nL 703 672 \nQ 941 559 1184 500 \nQ 1428 441 1663 441 \nQ 2288 441 2617 861 \nQ 2947 1281 2994 2138 \nQ 2813 1869 2534 1725 \nQ 2256 1581 1919 1581 \nQ 1219 1581 811 2004 \nQ 403 2428 403 3163 \nQ 403 3881 828 4315 \nQ 1253 4750 1959 4750 \nQ 2769 4750 3195 4129 \nQ 3622 3509 3622 2328 \nQ 3622 1225 3098 567 \nQ 2575 -91 1691 -91 \nQ 1453 -91 1209 -44 \nQ 966 3 703 97 \nz\nM 1959 2075 \nQ 2384 2075 2632 2365 \nQ 2881 2656 2881 3163 \nQ 2881 3666 2632 3958 \nQ 2384 4250 1959 4250 \nQ 1534 4250 1286 3958 \nQ 1038 3666 1038 3163 \nQ 1038 2656 1286 2365 \nQ 1534 2075 1959 2075 \nz\n\" id=\"DejaVuSans-39\" transform=\"scale(0.015625)\"/>\n       </defs>\n       <use xlink:href=\"#DejaVuSans-31\"/>\n       <use x=\"63.623047\" xlink:href=\"#DejaVuSans-39\"/>\n       <use x=\"127.246094\" xlink:href=\"#DejaVuSans-30\"/>\n      </g>\n     </g>\n    </g>\n    <g id=\"xtick_6\">\n     <g id=\"line2d_6\">\n      <g>\n       <use style=\"stroke:#000000;stroke-width:0.8;\" x=\"349.684943\" xlink:href=\"#mc45da08ce4\" y=\"224.64\"/>\n      </g>\n     </g>\n     <g id=\"text_6\">\n      <!-- 200 -->\n      <g transform=\"translate(340.141193 239.238437)scale(0.1 -0.1)\">\n       <defs>\n        <path d=\"M 1228 531 \nL 3431 531 \nL 3431 0 \nL 469 0 \nL 469 531 \nQ 828 903 1448 1529 \nQ 2069 2156 2228 2338 \nQ 2531 2678 2651 2914 \nQ 2772 3150 2772 3378 \nQ 2772 3750 2511 3984 \nQ 2250 4219 1831 4219 \nQ 1534 4219 1204 4116 \nQ 875 4013 500 3803 \nL 500 4441 \nQ 881 4594 1212 4672 \nQ 1544 4750 1819 4750 \nQ 2544 4750 2975 4387 \nQ 3406 4025 3406 3419 \nQ 3406 3131 3298 2873 \nQ 3191 2616 2906 2266 \nQ 2828 2175 2409 1742 \nQ 1991 1309 1228 531 \nz\n\" id=\"DejaVuSans-32\" transform=\"scale(0.015625)\"/>\n       </defs>\n       <use xlink:href=\"#DejaVuSans-32\"/>\n       <use x=\"63.623047\" xlink:href=\"#DejaVuSans-30\"/>\n       <use x=\"127.246094\" xlink:href=\"#DejaVuSans-30\"/>\n      </g>\n     </g>\n    </g>\n   </g>\n   <g id=\"matplotlib.axis_2\">\n    <g id=\"ytick_1\">\n     <g id=\"line2d_7\">\n      <defs>\n       <path d=\"M 0 0 \nL -3.5 0 \n\" id=\"meda0986e29\" style=\"stroke:#000000;stroke-width:0.8;\"/>\n      </defs>\n      <g>\n       <use style=\"stroke:#000000;stroke-width:0.8;\" x=\"30.103125\" xlink:href=\"#meda0986e29\" y=\"214.756364\"/>\n      </g>\n     </g>\n     <g id=\"text_7\">\n      <!-- 0.0 -->\n      <g transform=\"translate(7.2 218.555582)scale(0.1 -0.1)\">\n       <defs>\n        <path d=\"M 684 794 \nL 1344 794 \nL 1344 0 \nL 684 0 \nL 684 794 \nz\n\" id=\"DejaVuSans-2e\" transform=\"scale(0.015625)\"/>\n       </defs>\n       <use xlink:href=\"#DejaVuSans-30\"/>\n       <use x=\"63.623047\" xlink:href=\"#DejaVuSans-2e\"/>\n       <use x=\"95.410156\" xlink:href=\"#DejaVuSans-30\"/>\n      </g>\n     </g>\n    </g>\n    <g id=\"ytick_2\">\n     <g id=\"line2d_8\">\n      <g>\n       <use style=\"stroke:#000000;stroke-width:0.8;\" x=\"30.103125\" xlink:href=\"#meda0986e29\" y=\"175.221818\"/>\n      </g>\n     </g>\n     <g id=\"text_8\">\n      <!-- 0.2 -->\n      <g transform=\"translate(7.2 179.021037)scale(0.1 -0.1)\">\n       <use xlink:href=\"#DejaVuSans-30\"/>\n       <use x=\"63.623047\" xlink:href=\"#DejaVuSans-2e\"/>\n       <use x=\"95.410156\" xlink:href=\"#DejaVuSans-32\"/>\n      </g>\n     </g>\n    </g>\n    <g id=\"ytick_3\">\n     <g id=\"line2d_9\">\n      <g>\n       <use style=\"stroke:#000000;stroke-width:0.8;\" x=\"30.103125\" xlink:href=\"#meda0986e29\" y=\"135.687273\"/>\n      </g>\n     </g>\n     <g id=\"text_9\">\n      <!-- 0.4 -->\n      <g transform=\"translate(7.2 139.486491)scale(0.1 -0.1)\">\n       <defs>\n        <path d=\"M 2419 4116 \nL 825 1625 \nL 2419 1625 \nL 2419 4116 \nz\nM 2253 4666 \nL 3047 4666 \nL 3047 1625 \nL 3713 1625 \nL 3713 1100 \nL 3047 1100 \nL 3047 0 \nL 2419 0 \nL 2419 1100 \nL 313 1100 \nL 313 1709 \nL 2253 4666 \nz\n\" id=\"DejaVuSans-34\" transform=\"scale(0.015625)\"/>\n       </defs>\n       <use xlink:href=\"#DejaVuSans-30\"/>\n       <use x=\"63.623047\" xlink:href=\"#DejaVuSans-2e\"/>\n       <use x=\"95.410156\" xlink:href=\"#DejaVuSans-34\"/>\n      </g>\n     </g>\n    </g>\n    <g id=\"ytick_4\">\n     <g id=\"line2d_10\">\n      <g>\n       <use style=\"stroke:#000000;stroke-width:0.8;\" x=\"30.103125\" xlink:href=\"#meda0986e29\" y=\"96.152727\"/>\n      </g>\n     </g>\n     <g id=\"text_10\">\n      <!-- 0.6 -->\n      <g transform=\"translate(7.2 99.951946)scale(0.1 -0.1)\">\n       <use xlink:href=\"#DejaVuSans-30\"/>\n       <use x=\"63.623047\" xlink:href=\"#DejaVuSans-2e\"/>\n       <use x=\"95.410156\" xlink:href=\"#DejaVuSans-36\"/>\n      </g>\n     </g>\n    </g>\n    <g id=\"ytick_5\">\n     <g id=\"line2d_11\">\n      <g>\n       <use style=\"stroke:#000000;stroke-width:0.8;\" x=\"30.103125\" xlink:href=\"#meda0986e29\" y=\"56.618182\"/>\n      </g>\n     </g>\n     <g id=\"text_11\">\n      <!-- 0.8 -->\n      <g transform=\"translate(7.2 60.417401)scale(0.1 -0.1)\">\n       <use xlink:href=\"#DejaVuSans-30\"/>\n       <use x=\"63.623047\" xlink:href=\"#DejaVuSans-2e\"/>\n       <use x=\"95.410156\" xlink:href=\"#DejaVuSans-38\"/>\n      </g>\n     </g>\n    </g>\n    <g id=\"ytick_6\">\n     <g id=\"line2d_12\">\n      <g>\n       <use style=\"stroke:#000000;stroke-width:0.8;\" x=\"30.103125\" xlink:href=\"#meda0986e29\" y=\"17.083636\"/>\n      </g>\n     </g>\n     <g id=\"text_12\">\n      <!-- 1.0 -->\n      <g transform=\"translate(7.2 20.882855)scale(0.1 -0.1)\">\n       <use xlink:href=\"#DejaVuSans-31\"/>\n       <use x=\"63.623047\" xlink:href=\"#DejaVuSans-2e\"/>\n       <use x=\"95.410156\" xlink:href=\"#DejaVuSans-30\"/>\n      </g>\n     </g>\n    </g>\n   </g>\n   <g id=\"line2d_13\">\n    <path clip-path=\"url(#p0f4eace474)\" d=\"M 45.321307 214.756364 \nL 197.503125 214.756364 \nL 227.939489 175.221818 \nL 258.375852 76.385455 \nL 288.812216 17.083636 \nL 349.684943 17.083636 \nL 349.684943 17.083636 \n\" style=\"fill:none;stroke:#1f77b4;stroke-linecap:square;stroke-width:3;\"/>\n   </g>\n   <g id=\"line2d_14\">\n    <path clip-path=\"url(#p0f4eace474)\" d=\"M 45.321307 17.083636 \nL 75.75767 17.083636 \nL 106.194034 56.618182 \nL 167.066761 175.221818 \nL 197.503125 214.756364 \nL 349.684943 214.756364 \nL 349.684943 214.756364 \n\" style=\"fill:none;stroke:#ff7f0e;stroke-linecap:square;stroke-width:3;\"/>\n   </g>\n   <g id=\"patch_3\">\n    <path d=\"M 30.103125 224.64 \nL 364.903125 224.64 \n\" style=\"fill:none;stroke:#808080;stroke-linecap:square;stroke-linejoin:miter;stroke-width:0.8;\"/>\n   </g>\n   <g id=\"legend_1\">\n    <g id=\"patch_4\">\n     <path d=\"M 302.91875 132.098125 \nL 357.903125 132.098125 \nQ 359.903125 132.098125 359.903125 130.098125 \nL 359.903125 101.741875 \nQ 359.903125 99.741875 357.903125 99.741875 \nL 302.91875 99.741875 \nQ 300.91875 99.741875 300.91875 101.741875 \nL 300.91875 130.098125 \nQ 300.91875 132.098125 302.91875 132.098125 \nz\n\" style=\"fill:#ffffff;opacity:0.8;stroke:#cccccc;stroke-linejoin:miter;\"/>\n    </g>\n    <g id=\"line2d_15\">\n     <path d=\"M 304.91875 107.840312 \nL 324.91875 107.840312 \n\" style=\"fill:none;stroke:#1f77b4;stroke-linecap:square;stroke-width:3;\"/>\n    </g>\n    <g id=\"line2d_16\"/>\n    <g id=\"text_13\">\n     <!-- High -->\n     <g transform=\"translate(332.91875 111.340312)scale(0.1 -0.1)\">\n      <defs>\n       <path d=\"M 628 4666 \nL 1259 4666 \nL 1259 2753 \nL 3553 2753 \nL 3553 4666 \nL 4184 4666 \nL 4184 0 \nL 3553 0 \nL 3553 2222 \nL 1259 2222 \nL 1259 0 \nL 628 0 \nL 628 4666 \nz\n\" id=\"DejaVuSans-48\" transform=\"scale(0.015625)\"/>\n       <path d=\"M 603 3500 \nL 1178 3500 \nL 1178 0 \nL 603 0 \nL 603 3500 \nz\nM 603 4863 \nL 1178 4863 \nL 1178 4134 \nL 603 4134 \nL 603 4863 \nz\n\" id=\"DejaVuSans-69\" transform=\"scale(0.015625)\"/>\n       <path d=\"M 2906 1791 \nQ 2906 2416 2648 2759 \nQ 2391 3103 1925 3103 \nQ 1463 3103 1205 2759 \nQ 947 2416 947 1791 \nQ 947 1169 1205 825 \nQ 1463 481 1925 481 \nQ 2391 481 2648 825 \nQ 2906 1169 2906 1791 \nz\nM 3481 434 \nQ 3481 -459 3084 -895 \nQ 2688 -1331 1869 -1331 \nQ 1566 -1331 1297 -1286 \nQ 1028 -1241 775 -1147 \nL 775 -588 \nQ 1028 -725 1275 -790 \nQ 1522 -856 1778 -856 \nQ 2344 -856 2625 -561 \nQ 2906 -266 2906 331 \nL 2906 616 \nQ 2728 306 2450 153 \nQ 2172 0 1784 0 \nQ 1141 0 747 490 \nQ 353 981 353 1791 \nQ 353 2603 747 3093 \nQ 1141 3584 1784 3584 \nQ 2172 3584 2450 3431 \nQ 2728 3278 2906 2969 \nL 2906 3500 \nL 3481 3500 \nL 3481 434 \nz\n\" id=\"DejaVuSans-67\" transform=\"scale(0.015625)\"/>\n       <path d=\"M 3513 2113 \nL 3513 0 \nL 2938 0 \nL 2938 2094 \nQ 2938 2591 2744 2837 \nQ 2550 3084 2163 3084 \nQ 1697 3084 1428 2787 \nQ 1159 2491 1159 1978 \nL 1159 0 \nL 581 0 \nL 581 4863 \nL 1159 4863 \nL 1159 2956 \nQ 1366 3272 1645 3428 \nQ 1925 3584 2291 3584 \nQ 2894 3584 3203 3211 \nQ 3513 2838 3513 2113 \nz\n\" id=\"DejaVuSans-68\" transform=\"scale(0.015625)\"/>\n      </defs>\n      <use xlink:href=\"#DejaVuSans-48\"/>\n      <use x=\"75.195312\" xlink:href=\"#DejaVuSans-69\"/>\n      <use x=\"102.978516\" xlink:href=\"#DejaVuSans-67\"/>\n      <use x=\"166.455078\" xlink:href=\"#DejaVuSans-68\"/>\n     </g>\n    </g>\n    <g id=\"line2d_17\">\n     <path d=\"M 304.91875 122.518437 \nL 324.91875 122.518437 \n\" style=\"fill:none;stroke:#ff7f0e;stroke-linecap:square;stroke-width:3;\"/>\n    </g>\n    <g id=\"line2d_18\"/>\n    <g id=\"text_14\">\n     <!-- Low -->\n     <g transform=\"translate(332.91875 126.018437)scale(0.1 -0.1)\">\n      <defs>\n       <path d=\"M 628 4666 \nL 1259 4666 \nL 1259 531 \nL 3531 531 \nL 3531 0 \nL 628 0 \nL 628 4666 \nz\n\" id=\"DejaVuSans-4c\" transform=\"scale(0.015625)\"/>\n       <path d=\"M 1959 3097 \nQ 1497 3097 1228 2736 \nQ 959 2375 959 1747 \nQ 959 1119 1226 758 \nQ 1494 397 1959 397 \nQ 2419 397 2687 759 \nQ 2956 1122 2956 1747 \nQ 2956 2369 2687 2733 \nQ 2419 3097 1959 3097 \nz\nM 1959 3584 \nQ 2709 3584 3137 3096 \nQ 3566 2609 3566 1747 \nQ 3566 888 3137 398 \nQ 2709 -91 1959 -91 \nQ 1206 -91 779 398 \nQ 353 888 353 1747 \nQ 353 2609 779 3096 \nQ 1206 3584 1959 3584 \nz\n\" id=\"DejaVuSans-6f\" transform=\"scale(0.015625)\"/>\n       <path d=\"M 269 3500 \nL 844 3500 \nL 1563 769 \nL 2278 3500 \nL 2956 3500 \nL 3675 769 \nL 4391 3500 \nL 4966 3500 \nL 4050 0 \nL 3372 0 \nL 2619 2869 \nL 1863 0 \nL 1184 0 \nL 269 3500 \nz\n\" id=\"DejaVuSans-77\" transform=\"scale(0.015625)\"/>\n      </defs>\n      <use xlink:href=\"#DejaVuSans-4c\"/>\n      <use x=\"53.962891\" xlink:href=\"#DejaVuSans-6f\"/>\n      <use x=\"115.144531\" xlink:href=\"#DejaVuSans-77\"/>\n     </g>\n    </g>\n   </g>\n  </g>\n </g>\n <defs>\n  <clipPath id=\"p0f4eace474\">\n   <rect height=\"217.44\" width=\"334.8\" x=\"30.103125\" y=\"7.2\"/>\n  </clipPath>\n </defs>\n</svg>\n",
      "image/png": "[encoded data removed]"
     },
     "metadata": {
      "needs_background": "light"
     }
    }
   ],
   "source": [
    "    >>> from fuzzy_expert.variable import FuzzyVariable\n",
    "    >>> v = FuzzyVariable(\n",
    "    ...     universe_range=(150, 200),\n",
    "    ...     terms={\n",
    "    ...         \"High\": [(175, 0), (180, 0.2), (185, 0.7), (190, 1)],\n",
    "    ...         \"Low\": [(155, 1), (160, 0.8), (165, 0.5), (170, 0.2), (175, 0)],\n",
    "    ...     },\n",
    "    ... )\n",
    "    >>> v.plot()"
   ]
  },
  {
   "cell_type": "code",
   "execution_count": 36,
   "metadata": {},
   "outputs": [
    {
     "output_type": "execute_result",
     "data": {
      "text/plain": [
       "<matplotlib.legend.Legend at 0x7ff6e16a0250>"
      ]
     },
     "metadata": {},
     "execution_count": 36
    },
    {
     "output_type": "display_data",
     "data": {
      "text/plain": "<Figure size 432x288 with 1 Axes>",
      "image/svg+xml": "<?xml version=\"1.0\" encoding=\"utf-8\" standalone=\"no\"?>\n<!DOCTYPE svg PUBLIC \"-//W3C//DTD SVG 1.1//EN\"\n  \"http://www.w3.org/Graphics/SVG/1.1/DTD/svg11.dtd\">\n<svg height=\"248.518125pt\" version=\"1.1\" viewBox=\"0 0 372.103125 248.518125\" width=\"372.103125pt\" xmlns=\"http://www.w3.org/2000/svg\" xmlns:xlink=\"http://www.w3.org/1999/xlink\">\n <metadata>\n  <rdf:RDF xmlns:cc=\"http://creativecommons.org/ns#\" xmlns:dc=\"http://purl.org/dc/elements/1.1/\" xmlns:rdf=\"http://www.w3.org/1999/02/22-rdf-syntax-ns#\">\n   <cc:Work>\n    <dc:type rdf:resource=\"http://purl.org/dc/dcmitype/StillImage\"/>\n    <dc:date>2021-06-24T17:42:47.837940</dc:date>\n    <dc:format>image/svg+xml</dc:format>\n    <dc:creator>\n     <cc:Agent>\n      <dc:title>Matplotlib v3.4.2, https://matplotlib.org/</dc:title>\n     </cc:Agent>\n    </dc:creator>\n   </cc:Work>\n  </rdf:RDF>\n </metadata>\n <defs>\n  <style type=\"text/css\">*{stroke-linecap:butt;stroke-linejoin:round;}</style>\n </defs>\n <g id=\"figure_1\">\n  <g id=\"patch_1\">\n   <path d=\"M 0 248.518125 \nL 372.103125 248.518125 \nL 372.103125 0 \nL 0 0 \nz\n\" style=\"fill:none;\"/>\n  </g>\n  <g id=\"axes_1\">\n   <g id=\"patch_2\">\n    <path d=\"M 30.103125 224.64 \nL 364.903125 224.64 \nL 364.903125 7.2 \nL 30.103125 7.2 \nz\n\" style=\"fill:#ffffff;\"/>\n   </g>\n   <g id=\"matplotlib.axis_1\">\n    <g id=\"xtick_1\">\n     <g id=\"line2d_1\">\n      <defs>\n       <path d=\"M 0 0 \nL 0 3.5 \n\" id=\"mc4bc986e14\" style=\"stroke:#000000;stroke-width:0.8;\"/>\n      </defs>\n      <g>\n       <use style=\"stroke:#000000;stroke-width:0.8;\" x=\"45.321307\" xlink:href=\"#mc4bc986e14\" y=\"224.64\"/>\n      </g>\n     </g>\n     <g id=\"text_1\">\n      <!-- 150 -->\n      <g transform=\"translate(35.777557 239.238437)scale(0.1 -0.1)\">\n       <defs>\n        <path d=\"M 794 531 \nL 1825 531 \nL 1825 4091 \nL 703 3866 \nL 703 4441 \nL 1819 4666 \nL 2450 4666 \nL 2450 531 \nL 3481 531 \nL 3481 0 \nL 794 0 \nL 794 531 \nz\n\" id=\"DejaVuSans-31\" transform=\"scale(0.015625)\"/>\n        <path d=\"M 691 4666 \nL 3169 4666 \nL 3169 4134 \nL 1269 4134 \nL 1269 2991 \nQ 1406 3038 1543 3061 \nQ 1681 3084 1819 3084 \nQ 2600 3084 3056 2656 \nQ 3513 2228 3513 1497 \nQ 3513 744 3044 326 \nQ 2575 -91 1722 -91 \nQ 1428 -91 1123 -41 \nQ 819 9 494 109 \nL 494 744 \nQ 775 591 1075 516 \nQ 1375 441 1709 441 \nQ 2250 441 2565 725 \nQ 2881 1009 2881 1497 \nQ 2881 1984 2565 2268 \nQ 2250 2553 1709 2553 \nQ 1456 2553 1204 2497 \nQ 953 2441 691 2322 \nL 691 4666 \nz\n\" id=\"DejaVuSans-35\" transform=\"scale(0.015625)\"/>\n        <path d=\"M 2034 4250 \nQ 1547 4250 1301 3770 \nQ 1056 3291 1056 2328 \nQ 1056 1369 1301 889 \nQ 1547 409 2034 409 \nQ 2525 409 2770 889 \nQ 3016 1369 3016 2328 \nQ 3016 3291 2770 3770 \nQ 2525 4250 2034 4250 \nz\nM 2034 4750 \nQ 2819 4750 3233 4129 \nQ 3647 3509 3647 2328 \nQ 3647 1150 3233 529 \nQ 2819 -91 2034 -91 \nQ 1250 -91 836 529 \nQ 422 1150 422 2328 \nQ 422 3509 836 4129 \nQ 1250 4750 2034 4750 \nz\n\" id=\"DejaVuSans-30\" transform=\"scale(0.015625)\"/>\n       </defs>\n       <use xlink:href=\"#DejaVuSans-31\"/>\n       <use x=\"63.623047\" xlink:href=\"#DejaVuSans-35\"/>\n       <use x=\"127.246094\" xlink:href=\"#DejaVuSans-30\"/>\n      </g>\n     </g>\n    </g>\n    <g id=\"xtick_2\">\n     <g id=\"line2d_2\">\n      <g>\n       <use style=\"stroke:#000000;stroke-width:0.8;\" x=\"106.194034\" xlink:href=\"#mc4bc986e14\" y=\"224.64\"/>\n      </g>\n     </g>\n     <g id=\"text_2\">\n      <!-- 160 -->\n      <g transform=\"translate(96.650284 239.238437)scale(0.1 -0.1)\">\n       <defs>\n        <path d=\"M 2113 2584 \nQ 1688 2584 1439 2293 \nQ 1191 2003 1191 1497 \nQ 1191 994 1439 701 \nQ 1688 409 2113 409 \nQ 2538 409 2786 701 \nQ 3034 994 3034 1497 \nQ 3034 2003 2786 2293 \nQ 2538 2584 2113 2584 \nz\nM 3366 4563 \nL 3366 3988 \nQ 3128 4100 2886 4159 \nQ 2644 4219 2406 4219 \nQ 1781 4219 1451 3797 \nQ 1122 3375 1075 2522 \nQ 1259 2794 1537 2939 \nQ 1816 3084 2150 3084 \nQ 2853 3084 3261 2657 \nQ 3669 2231 3669 1497 \nQ 3669 778 3244 343 \nQ 2819 -91 2113 -91 \nQ 1303 -91 875 529 \nQ 447 1150 447 2328 \nQ 447 3434 972 4092 \nQ 1497 4750 2381 4750 \nQ 2619 4750 2861 4703 \nQ 3103 4656 3366 4563 \nz\n\" id=\"DejaVuSans-36\" transform=\"scale(0.015625)\"/>\n       </defs>\n       <use xlink:href=\"#DejaVuSans-31\"/>\n       <use x=\"63.623047\" xlink:href=\"#DejaVuSans-36\"/>\n       <use x=\"127.246094\" xlink:href=\"#DejaVuSans-30\"/>\n      </g>\n     </g>\n    </g>\n    <g id=\"xtick_3\">\n     <g id=\"line2d_3\">\n      <g>\n       <use style=\"stroke:#000000;stroke-width:0.8;\" x=\"167.066761\" xlink:href=\"#mc4bc986e14\" y=\"224.64\"/>\n      </g>\n     </g>\n     <g id=\"text_3\">\n      <!-- 170 -->\n      <g transform=\"translate(157.523011 239.238437)scale(0.1 -0.1)\">\n       <defs>\n        <path d=\"M 525 4666 \nL 3525 4666 \nL 3525 4397 \nL 1831 0 \nL 1172 0 \nL 2766 4134 \nL 525 4134 \nL 525 4666 \nz\n\" id=\"DejaVuSans-37\" transform=\"scale(0.015625)\"/>\n       </defs>\n       <use xlink:href=\"#DejaVuSans-31\"/>\n       <use x=\"63.623047\" xlink:href=\"#DejaVuSans-37\"/>\n       <use x=\"127.246094\" xlink:href=\"#DejaVuSans-30\"/>\n      </g>\n     </g>\n    </g>\n    <g id=\"xtick_4\">\n     <g id=\"line2d_4\">\n      <g>\n       <use style=\"stroke:#000000;stroke-width:0.8;\" x=\"227.939489\" xlink:href=\"#mc4bc986e14\" y=\"224.64\"/>\n      </g>\n     </g>\n     <g id=\"text_4\">\n      <!-- 180 -->\n      <g transform=\"translate(218.395739 239.238437)scale(0.1 -0.1)\">\n       <defs>\n        <path d=\"M 2034 2216 \nQ 1584 2216 1326 1975 \nQ 1069 1734 1069 1313 \nQ 1069 891 1326 650 \nQ 1584 409 2034 409 \nQ 2484 409 2743 651 \nQ 3003 894 3003 1313 \nQ 3003 1734 2745 1975 \nQ 2488 2216 2034 2216 \nz\nM 1403 2484 \nQ 997 2584 770 2862 \nQ 544 3141 544 3541 \nQ 544 4100 942 4425 \nQ 1341 4750 2034 4750 \nQ 2731 4750 3128 4425 \nQ 3525 4100 3525 3541 \nQ 3525 3141 3298 2862 \nQ 3072 2584 2669 2484 \nQ 3125 2378 3379 2068 \nQ 3634 1759 3634 1313 \nQ 3634 634 3220 271 \nQ 2806 -91 2034 -91 \nQ 1263 -91 848 271 \nQ 434 634 434 1313 \nQ 434 1759 690 2068 \nQ 947 2378 1403 2484 \nz\nM 1172 3481 \nQ 1172 3119 1398 2916 \nQ 1625 2713 2034 2713 \nQ 2441 2713 2670 2916 \nQ 2900 3119 2900 3481 \nQ 2900 3844 2670 4047 \nQ 2441 4250 2034 4250 \nQ 1625 4250 1398 4047 \nQ 1172 3844 1172 3481 \nz\n\" id=\"DejaVuSans-38\" transform=\"scale(0.015625)\"/>\n       </defs>\n       <use xlink:href=\"#DejaVuSans-31\"/>\n       <use x=\"63.623047\" xlink:href=\"#DejaVuSans-38\"/>\n       <use x=\"127.246094\" xlink:href=\"#DejaVuSans-30\"/>\n      </g>\n     </g>\n    </g>\n    <g id=\"xtick_5\">\n     <g id=\"line2d_5\">\n      <g>\n       <use style=\"stroke:#000000;stroke-width:0.8;\" x=\"288.812216\" xlink:href=\"#mc4bc986e14\" y=\"224.64\"/>\n      </g>\n     </g>\n     <g id=\"text_5\">\n      <!-- 190 -->\n      <g transform=\"translate(279.268466 239.238437)scale(0.1 -0.1)\">\n       <defs>\n        <path d=\"M 703 97 \nL 703 672 \nQ 941 559 1184 500 \nQ 1428 441 1663 441 \nQ 2288 441 2617 861 \nQ 2947 1281 2994 2138 \nQ 2813 1869 2534 1725 \nQ 2256 1581 1919 1581 \nQ 1219 1581 811 2004 \nQ 403 2428 403 3163 \nQ 403 3881 828 4315 \nQ 1253 4750 1959 4750 \nQ 2769 4750 3195 4129 \nQ 3622 3509 3622 2328 \nQ 3622 1225 3098 567 \nQ 2575 -91 1691 -91 \nQ 1453 -91 1209 -44 \nQ 966 3 703 97 \nz\nM 1959 2075 \nQ 2384 2075 2632 2365 \nQ 2881 2656 2881 3163 \nQ 2881 3666 2632 3958 \nQ 2384 4250 1959 4250 \nQ 1534 4250 1286 3958 \nQ 1038 3666 1038 3163 \nQ 1038 2656 1286 2365 \nQ 1534 2075 1959 2075 \nz\n\" id=\"DejaVuSans-39\" transform=\"scale(0.015625)\"/>\n       </defs>\n       <use xlink:href=\"#DejaVuSans-31\"/>\n       <use x=\"63.623047\" xlink:href=\"#DejaVuSans-39\"/>\n       <use x=\"127.246094\" xlink:href=\"#DejaVuSans-30\"/>\n      </g>\n     </g>\n    </g>\n    <g id=\"xtick_6\">\n     <g id=\"line2d_6\">\n      <g>\n       <use style=\"stroke:#000000;stroke-width:0.8;\" x=\"349.684943\" xlink:href=\"#mc4bc986e14\" y=\"224.64\"/>\n      </g>\n     </g>\n     <g id=\"text_6\">\n      <!-- 200 -->\n      <g transform=\"translate(340.141193 239.238437)scale(0.1 -0.1)\">\n       <defs>\n        <path d=\"M 1228 531 \nL 3431 531 \nL 3431 0 \nL 469 0 \nL 469 531 \nQ 828 903 1448 1529 \nQ 2069 2156 2228 2338 \nQ 2531 2678 2651 2914 \nQ 2772 3150 2772 3378 \nQ 2772 3750 2511 3984 \nQ 2250 4219 1831 4219 \nQ 1534 4219 1204 4116 \nQ 875 4013 500 3803 \nL 500 4441 \nQ 881 4594 1212 4672 \nQ 1544 4750 1819 4750 \nQ 2544 4750 2975 4387 \nQ 3406 4025 3406 3419 \nQ 3406 3131 3298 2873 \nQ 3191 2616 2906 2266 \nQ 2828 2175 2409 1742 \nQ 1991 1309 1228 531 \nz\n\" id=\"DejaVuSans-32\" transform=\"scale(0.015625)\"/>\n       </defs>\n       <use xlink:href=\"#DejaVuSans-32\"/>\n       <use x=\"63.623047\" xlink:href=\"#DejaVuSans-30\"/>\n       <use x=\"127.246094\" xlink:href=\"#DejaVuSans-30\"/>\n      </g>\n     </g>\n    </g>\n   </g>\n   <g id=\"matplotlib.axis_2\">\n    <g id=\"ytick_1\">\n     <g id=\"line2d_7\">\n      <defs>\n       <path d=\"M 0 0 \nL -3.5 0 \n\" id=\"m0b0f66cfc9\" style=\"stroke:#000000;stroke-width:0.8;\"/>\n      </defs>\n      <g>\n       <use style=\"stroke:#000000;stroke-width:0.8;\" x=\"30.103125\" xlink:href=\"#m0b0f66cfc9\" y=\"214.756364\"/>\n      </g>\n     </g>\n     <g id=\"text_7\">\n      <!-- 0.0 -->\n      <g transform=\"translate(7.2 218.555582)scale(0.1 -0.1)\">\n       <defs>\n        <path d=\"M 684 794 \nL 1344 794 \nL 1344 0 \nL 684 0 \nL 684 794 \nz\n\" id=\"DejaVuSans-2e\" transform=\"scale(0.015625)\"/>\n       </defs>\n       <use xlink:href=\"#DejaVuSans-30\"/>\n       <use x=\"63.623047\" xlink:href=\"#DejaVuSans-2e\"/>\n       <use x=\"95.410156\" xlink:href=\"#DejaVuSans-30\"/>\n      </g>\n     </g>\n    </g>\n    <g id=\"ytick_2\">\n     <g id=\"line2d_8\">\n      <g>\n       <use style=\"stroke:#000000;stroke-width:0.8;\" x=\"30.103125\" xlink:href=\"#m0b0f66cfc9\" y=\"175.221818\"/>\n      </g>\n     </g>\n     <g id=\"text_8\">\n      <!-- 0.2 -->\n      <g transform=\"translate(7.2 179.021037)scale(0.1 -0.1)\">\n       <use xlink:href=\"#DejaVuSans-30\"/>\n       <use x=\"63.623047\" xlink:href=\"#DejaVuSans-2e\"/>\n       <use x=\"95.410156\" xlink:href=\"#DejaVuSans-32\"/>\n      </g>\n     </g>\n    </g>\n    <g id=\"ytick_3\">\n     <g id=\"line2d_9\">\n      <g>\n       <use style=\"stroke:#000000;stroke-width:0.8;\" x=\"30.103125\" xlink:href=\"#m0b0f66cfc9\" y=\"135.687273\"/>\n      </g>\n     </g>\n     <g id=\"text_9\">\n      <!-- 0.4 -->\n      <g transform=\"translate(7.2 139.486491)scale(0.1 -0.1)\">\n       <defs>\n        <path d=\"M 2419 4116 \nL 825 1625 \nL 2419 1625 \nL 2419 4116 \nz\nM 2253 4666 \nL 3047 4666 \nL 3047 1625 \nL 3713 1625 \nL 3713 1100 \nL 3047 1100 \nL 3047 0 \nL 2419 0 \nL 2419 1100 \nL 313 1100 \nL 313 1709 \nL 2253 4666 \nz\n\" id=\"DejaVuSans-34\" transform=\"scale(0.015625)\"/>\n       </defs>\n       <use xlink:href=\"#DejaVuSans-30\"/>\n       <use x=\"63.623047\" xlink:href=\"#DejaVuSans-2e\"/>\n       <use x=\"95.410156\" xlink:href=\"#DejaVuSans-34\"/>\n      </g>\n     </g>\n    </g>\n    <g id=\"ytick_4\">\n     <g id=\"line2d_10\">\n      <g>\n       <use style=\"stroke:#000000;stroke-width:0.8;\" x=\"30.103125\" xlink:href=\"#m0b0f66cfc9\" y=\"96.152727\"/>\n      </g>\n     </g>\n     <g id=\"text_10\">\n      <!-- 0.6 -->\n      <g transform=\"translate(7.2 99.951946)scale(0.1 -0.1)\">\n       <use xlink:href=\"#DejaVuSans-30\"/>\n       <use x=\"63.623047\" xlink:href=\"#DejaVuSans-2e\"/>\n       <use x=\"95.410156\" xlink:href=\"#DejaVuSans-36\"/>\n      </g>\n     </g>\n    </g>\n    <g id=\"ytick_5\">\n     <g id=\"line2d_11\">\n      <g>\n       <use style=\"stroke:#000000;stroke-width:0.8;\" x=\"30.103125\" xlink:href=\"#m0b0f66cfc9\" y=\"56.618182\"/>\n      </g>\n     </g>\n     <g id=\"text_11\">\n      <!-- 0.8 -->\n      <g transform=\"translate(7.2 60.417401)scale(0.1 -0.1)\">\n       <use xlink:href=\"#DejaVuSans-30\"/>\n       <use x=\"63.623047\" xlink:href=\"#DejaVuSans-2e\"/>\n       <use x=\"95.410156\" xlink:href=\"#DejaVuSans-38\"/>\n      </g>\n     </g>\n    </g>\n    <g id=\"ytick_6\">\n     <g id=\"line2d_12\">\n      <g>\n       <use style=\"stroke:#000000;stroke-width:0.8;\" x=\"30.103125\" xlink:href=\"#m0b0f66cfc9\" y=\"17.083636\"/>\n      </g>\n     </g>\n     <g id=\"text_12\">\n      <!-- 1.0 -->\n      <g transform=\"translate(7.2 20.882855)scale(0.1 -0.1)\">\n       <use xlink:href=\"#DejaVuSans-31\"/>\n       <use x=\"63.623047\" xlink:href=\"#DejaVuSans-2e\"/>\n       <use x=\"95.410156\" xlink:href=\"#DejaVuSans-30\"/>\n      </g>\n     </g>\n    </g>\n   </g>\n   <g id=\"line2d_13\">\n    <path clip-path=\"url(#pff5c1317bb)\" d=\"M 45.321307 214.756364 \nL 197.503125 214.756364 \nL 227.939489 175.221818 \nL 258.375852 76.385455 \nL 288.812216 17.083636 \nL 349.684943 17.083636 \nL 349.684943 17.083636 \n\" style=\"fill:none;stroke:#1f77b4;stroke-linecap:square;stroke-width:1.5;\"/>\n   </g>\n   <g id=\"line2d_14\">\n    <path clip-path=\"url(#pff5c1317bb)\" d=\"M 45.321307 214.756364 \nL 209.67767 214.655155 \nL 216.37367 214.379476 \nL 221.852216 213.946696 \nL 226.722034 213.357258 \nL 227.939489 213.174982 \nL 229.76567 212.35128 \nL 231.591852 211.282068 \nL 233.418034 209.935323 \nL 235.244216 208.279024 \nL 237.070398 206.281145 \nL 238.89658 203.909666 \nL 240.722761 201.132562 \nL 242.548943 197.91781 \nL 244.375125 194.233388 \nL 246.201307 190.047273 \nL 248.027489 185.327441 \nL 249.85367 180.04187 \nL 251.679852 174.158537 \nL 253.506034 167.645418 \nL 255.332216 160.470491 \nL 257.767125 149.819094 \nL 258.375852 146.954618 \nL 261.419489 137.858312 \nL 264.463125 127.982781 \nL 267.506761 117.296 \nL 270.550398 105.765947 \nL 273.594034 93.3606 \nL 276.63767 80.047935 \nL 279.681307 65.795929 \nL 282.724943 50.572559 \nL 285.76858 34.345803 \nL 288.812216 17.083636 \nL 349.684943 17.083636 \nL 349.684943 17.083636 \n\" style=\"fill:none;stroke:#ff7f0e;stroke-linecap:square;stroke-width:1.5;\"/>\n   </g>\n   <g id=\"patch_3\">\n    <path d=\"M 30.103125 224.64 \nL 30.103125 7.2 \n\" style=\"fill:none;stroke:#000000;stroke-linecap:square;stroke-linejoin:miter;stroke-width:0.8;\"/>\n   </g>\n   <g id=\"patch_4\">\n    <path d=\"M 364.903125 224.64 \nL 364.903125 7.2 \n\" style=\"fill:none;stroke:#000000;stroke-linecap:square;stroke-linejoin:miter;stroke-width:0.8;\"/>\n   </g>\n   <g id=\"patch_5\">\n    <path d=\"M 30.103125 224.64 \nL 364.903125 224.64 \n\" style=\"fill:none;stroke:#000000;stroke-linecap:square;stroke-linejoin:miter;stroke-width:0.8;\"/>\n   </g>\n   <g id=\"patch_6\">\n    <path d=\"M 30.103125 7.2 \nL 364.903125 7.2 \n\" style=\"fill:none;stroke:#000000;stroke-linecap:square;stroke-linejoin:miter;stroke-width:0.8;\"/>\n   </g>\n   <g id=\"legend_1\">\n    <g id=\"patch_7\">\n     <path d=\"M 37.103125 44.55625 \nL 145.7125 44.55625 \nQ 147.7125 44.55625 147.7125 42.55625 \nL 147.7125 14.2 \nQ 147.7125 12.2 145.7125 12.2 \nL 37.103125 12.2 \nQ 35.103125 12.2 35.103125 14.2 \nL 35.103125 42.55625 \nQ 35.103125 44.55625 37.103125 44.55625 \nz\n\" style=\"fill:#ffffff;opacity:0.8;stroke:#cccccc;stroke-linejoin:miter;\"/>\n    </g>\n    <g id=\"line2d_15\">\n     <path d=\"M 39.103125 20.298437 \nL 59.103125 20.298437 \n\" style=\"fill:none;stroke:#1f77b4;stroke-linecap:square;stroke-width:1.5;\"/>\n    </g>\n    <g id=\"line2d_16\"/>\n    <g id=\"text_13\">\n     <!-- High -->\n     <g transform=\"translate(67.103125 23.798437)scale(0.1 -0.1)\">\n      <defs>\n       <path d=\"M 628 4666 \nL 1259 4666 \nL 1259 2753 \nL 3553 2753 \nL 3553 4666 \nL 4184 4666 \nL 4184 0 \nL 3553 0 \nL 3553 2222 \nL 1259 2222 \nL 1259 0 \nL 628 0 \nL 628 4666 \nz\n\" id=\"DejaVuSans-48\" transform=\"scale(0.015625)\"/>\n       <path d=\"M 603 3500 \nL 1178 3500 \nL 1178 0 \nL 603 0 \nL 603 3500 \nz\nM 603 4863 \nL 1178 4863 \nL 1178 4134 \nL 603 4134 \nL 603 4863 \nz\n\" id=\"DejaVuSans-69\" transform=\"scale(0.015625)\"/>\n       <path d=\"M 2906 1791 \nQ 2906 2416 2648 2759 \nQ 2391 3103 1925 3103 \nQ 1463 3103 1205 2759 \nQ 947 2416 947 1791 \nQ 947 1169 1205 825 \nQ 1463 481 1925 481 \nQ 2391 481 2648 825 \nQ 2906 1169 2906 1791 \nz\nM 3481 434 \nQ 3481 -459 3084 -895 \nQ 2688 -1331 1869 -1331 \nQ 1566 -1331 1297 -1286 \nQ 1028 -1241 775 -1147 \nL 775 -588 \nQ 1028 -725 1275 -790 \nQ 1522 -856 1778 -856 \nQ 2344 -856 2625 -561 \nQ 2906 -266 2906 331 \nL 2906 616 \nQ 2728 306 2450 153 \nQ 2172 0 1784 0 \nQ 1141 0 747 490 \nQ 353 981 353 1791 \nQ 353 2603 747 3093 \nQ 1141 3584 1784 3584 \nQ 2172 3584 2450 3431 \nQ 2728 3278 2906 2969 \nL 2906 3500 \nL 3481 3500 \nL 3481 434 \nz\n\" id=\"DejaVuSans-67\" transform=\"scale(0.015625)\"/>\n       <path d=\"M 3513 2113 \nL 3513 0 \nL 2938 0 \nL 2938 2094 \nQ 2938 2591 2744 2837 \nQ 2550 3084 2163 3084 \nQ 1697 3084 1428 2787 \nQ 1159 2491 1159 1978 \nL 1159 0 \nL 581 0 \nL 581 4863 \nL 1159 4863 \nL 1159 2956 \nQ 1366 3272 1645 3428 \nQ 1925 3584 2291 3584 \nQ 2894 3584 3203 3211 \nQ 3513 2838 3513 2113 \nz\n\" id=\"DejaVuSans-68\" transform=\"scale(0.015625)\"/>\n      </defs>\n      <use xlink:href=\"#DejaVuSans-48\"/>\n      <use x=\"75.195312\" xlink:href=\"#DejaVuSans-69\"/>\n      <use x=\"102.978516\" xlink:href=\"#DejaVuSans-67\"/>\n      <use x=\"166.455078\" xlink:href=\"#DejaVuSans-68\"/>\n     </g>\n    </g>\n    <g id=\"line2d_17\">\n     <path d=\"M 39.103125 34.976562 \nL 59.103125 34.976562 \n\" style=\"fill:none;stroke:#ff7f0e;stroke-linecap:square;stroke-width:1.5;\"/>\n    </g>\n    <g id=\"line2d_18\"/>\n    <g id=\"text_14\">\n     <!-- extremely High -->\n     <g transform=\"translate(67.103125 38.476562)scale(0.1 -0.1)\">\n      <defs>\n       <path d=\"M 3597 1894 \nL 3597 1613 \nL 953 1613 \nQ 991 1019 1311 708 \nQ 1631 397 2203 397 \nQ 2534 397 2845 478 \nQ 3156 559 3463 722 \nL 3463 178 \nQ 3153 47 2828 -22 \nQ 2503 -91 2169 -91 \nQ 1331 -91 842 396 \nQ 353 884 353 1716 \nQ 353 2575 817 3079 \nQ 1281 3584 2069 3584 \nQ 2775 3584 3186 3129 \nQ 3597 2675 3597 1894 \nz\nM 3022 2063 \nQ 3016 2534 2758 2815 \nQ 2500 3097 2075 3097 \nQ 1594 3097 1305 2825 \nQ 1016 2553 972 2059 \nL 3022 2063 \nz\n\" id=\"DejaVuSans-65\" transform=\"scale(0.015625)\"/>\n       <path d=\"M 3513 3500 \nL 2247 1797 \nL 3578 0 \nL 2900 0 \nL 1881 1375 \nL 863 0 \nL 184 0 \nL 1544 1831 \nL 300 3500 \nL 978 3500 \nL 1906 2253 \nL 2834 3500 \nL 3513 3500 \nz\n\" id=\"DejaVuSans-78\" transform=\"scale(0.015625)\"/>\n       <path d=\"M 1172 4494 \nL 1172 3500 \nL 2356 3500 \nL 2356 3053 \nL 1172 3053 \nL 1172 1153 \nQ 1172 725 1289 603 \nQ 1406 481 1766 481 \nL 2356 481 \nL 2356 0 \nL 1766 0 \nQ 1100 0 847 248 \nQ 594 497 594 1153 \nL 594 3053 \nL 172 3053 \nL 172 3500 \nL 594 3500 \nL 594 4494 \nL 1172 4494 \nz\n\" id=\"DejaVuSans-74\" transform=\"scale(0.015625)\"/>\n       <path d=\"M 2631 2963 \nQ 2534 3019 2420 3045 \nQ 2306 3072 2169 3072 \nQ 1681 3072 1420 2755 \nQ 1159 2438 1159 1844 \nL 1159 0 \nL 581 0 \nL 581 3500 \nL 1159 3500 \nL 1159 2956 \nQ 1341 3275 1631 3429 \nQ 1922 3584 2338 3584 \nQ 2397 3584 2469 3576 \nQ 2541 3569 2628 3553 \nL 2631 2963 \nz\n\" id=\"DejaVuSans-72\" transform=\"scale(0.015625)\"/>\n       <path d=\"M 3328 2828 \nQ 3544 3216 3844 3400 \nQ 4144 3584 4550 3584 \nQ 5097 3584 5394 3201 \nQ 5691 2819 5691 2113 \nL 5691 0 \nL 5113 0 \nL 5113 2094 \nQ 5113 2597 4934 2840 \nQ 4756 3084 4391 3084 \nQ 3944 3084 3684 2787 \nQ 3425 2491 3425 1978 \nL 3425 0 \nL 2847 0 \nL 2847 2094 \nQ 2847 2600 2669 2842 \nQ 2491 3084 2119 3084 \nQ 1678 3084 1418 2786 \nQ 1159 2488 1159 1978 \nL 1159 0 \nL 581 0 \nL 581 3500 \nL 1159 3500 \nL 1159 2956 \nQ 1356 3278 1631 3431 \nQ 1906 3584 2284 3584 \nQ 2666 3584 2933 3390 \nQ 3200 3197 3328 2828 \nz\n\" id=\"DejaVuSans-6d\" transform=\"scale(0.015625)\"/>\n       <path d=\"M 603 4863 \nL 1178 4863 \nL 1178 0 \nL 603 0 \nL 603 4863 \nz\n\" id=\"DejaVuSans-6c\" transform=\"scale(0.015625)\"/>\n       <path d=\"M 2059 -325 \nQ 1816 -950 1584 -1140 \nQ 1353 -1331 966 -1331 \nL 506 -1331 \nL 506 -850 \nL 844 -850 \nQ 1081 -850 1212 -737 \nQ 1344 -625 1503 -206 \nL 1606 56 \nL 191 3500 \nL 800 3500 \nL 1894 763 \nL 2988 3500 \nL 3597 3500 \nL 2059 -325 \nz\n\" id=\"DejaVuSans-79\" transform=\"scale(0.015625)\"/>\n       <path id=\"DejaVuSans-20\" transform=\"scale(0.015625)\"/>\n      </defs>\n      <use xlink:href=\"#DejaVuSans-65\"/>\n      <use x=\"59.773438\" xlink:href=\"#DejaVuSans-78\"/>\n      <use x=\"118.953125\" xlink:href=\"#DejaVuSans-74\"/>\n      <use x=\"158.162109\" xlink:href=\"#DejaVuSans-72\"/>\n      <use x=\"197.025391\" xlink:href=\"#DejaVuSans-65\"/>\n      <use x=\"258.548828\" xlink:href=\"#DejaVuSans-6d\"/>\n      <use x=\"355.960938\" xlink:href=\"#DejaVuSans-65\"/>\n      <use x=\"417.484375\" xlink:href=\"#DejaVuSans-6c\"/>\n      <use x=\"445.267578\" xlink:href=\"#DejaVuSans-79\"/>\n      <use x=\"504.447266\" xlink:href=\"#DejaVuSans-20\"/>\n      <use x=\"536.234375\" xlink:href=\"#DejaVuSans-48\"/>\n      <use x=\"611.429688\" xlink:href=\"#DejaVuSans-69\"/>\n      <use x=\"639.212891\" xlink:href=\"#DejaVuSans-67\"/>\n      <use x=\"702.689453\" xlink:href=\"#DejaVuSans-68\"/>\n     </g>\n    </g>\n   </g>\n  </g>\n </g>\n <defs>\n  <clipPath id=\"pff5c1317bb\">\n   <rect height=\"217.44\" width=\"334.8\" x=\"30.103125\" y=\"7.2\"/>\n  </clipPath>\n </defs>\n</svg>\n",
      "image/png": "[encoded data removed]"
     },
     "metadata": {
      "needs_background": "light"
     }
    }
   ],
   "source": [
    "    >>> import matplotlib.pyplot as plt\n",
    "    >>> from fuzzy_expert.variable import FuzzyVariable\n",
    "    >>> v = FuzzyVariable(\n",
    "    ...     universe_range=(150, 200),\n",
    "    ...     terms={\n",
    "    ...         \"High\": [(175, 0), (180, 0.2), (185, 0.7), (190, 1)],\n",
    "    ...         \"Low\": [(155, 1), (160, 0.8), (165, 0.5), (170, 0.2), (175, 0)],\n",
    "    ...     },\n",
    "    ... )\n",
    "    >>> y = v.get_modified_membeship('High' ,['extremely'])\n",
    "    >>> plt.plot(v.universe, v['High'], label='High')\n",
    "    >>> plt.plot(v.universe, y, label='extremely High')\n",
    "    >>> plt.legend()"
   ]
  },
  {
   "cell_type": "code",
   "execution_count": 38,
   "metadata": {},
   "outputs": [
    {
     "output_type": "display_data",
     "data": {
      "text/plain": "<Figure size 432x288 with 1 Axes>",
      "image/svg+xml": "<?xml version=\"1.0\" encoding=\"utf-8\" standalone=\"no\"?>\n<!DOCTYPE svg PUBLIC \"-//W3C//DTD SVG 1.1//EN\"\n  \"http://www.w3.org/Graphics/SVG/1.1/DTD/svg11.dtd\">\n<svg height=\"248.518125pt\" version=\"1.1\" viewBox=\"0 0 372.103125 248.518125\" width=\"372.103125pt\" xmlns=\"http://www.w3.org/2000/svg\" xmlns:xlink=\"http://www.w3.org/1999/xlink\">\n <metadata>\n  <rdf:RDF xmlns:cc=\"http://creativecommons.org/ns#\" xmlns:dc=\"http://purl.org/dc/elements/1.1/\" xmlns:rdf=\"http://www.w3.org/1999/02/22-rdf-syntax-ns#\">\n   <cc:Work>\n    <dc:type rdf:resource=\"http://purl.org/dc/dcmitype/StillImage\"/>\n    <dc:date>2021-06-24T17:51:44.598998</dc:date>\n    <dc:format>image/svg+xml</dc:format>\n    <dc:creator>\n     <cc:Agent>\n      <dc:title>Matplotlib v3.4.2, https://matplotlib.org/</dc:title>\n     </cc:Agent>\n    </dc:creator>\n   </cc:Work>\n  </rdf:RDF>\n </metadata>\n <defs>\n  <style type=\"text/css\">*{stroke-linecap:butt;stroke-linejoin:round;}</style>\n </defs>\n <g id=\"figure_1\">\n  <g id=\"patch_1\">\n   <path d=\"M 0 248.518125 \nL 372.103125 248.518125 \nL 372.103125 0 \nL 0 0 \nz\n\" style=\"fill:none;\"/>\n  </g>\n  <g id=\"axes_1\">\n   <g id=\"patch_2\">\n    <path d=\"M 7.2 224.64 \nL 342 224.64 \nL 342 7.2 \nL 7.2 7.2 \nz\n\" style=\"fill:#ffffff;\"/>\n   </g>\n   <g id=\"PolyCollection_1\">\n    <defs>\n     <path d=\"M 22.418182 -33.761761 \nL 22.418182 -33.761761 \nL 23.026909 -33.761761 \nL 23.635636 -33.761761 \nL 24.244364 -33.761761 \nL 24.853091 -33.761761 \nL 25.461818 -33.761761 \nL 26.070545 -33.761761 \nL 26.679273 -33.761761 \nL 27.288 -33.761761 \nL 27.896727 -33.761761 \nL 28.505455 -33.761761 \nL 29.114182 -33.761761 \nL 29.722909 -33.761761 \nL 30.331636 -33.761761 \nL 30.940364 -33.761761 \nL 31.549091 -33.761761 \nL 32.157818 -33.761761 \nL 32.766545 -33.761761 \nL 33.375273 -33.761761 \nL 33.984 -33.761761 \nL 34.592727 -33.761761 \nL 35.201455 -33.761761 \nL 35.810182 -33.761761 \nL 36.418909 -33.761761 \nL 37.027636 -33.761761 \nL 37.636364 -33.761761 \nL 38.245091 -33.761761 \nL 38.853818 -33.761761 \nL 39.462545 -33.761761 \nL 40.071273 -33.761761 \nL 40.68 -33.761761 \nL 41.288727 -33.761761 \nL 41.897455 -33.761761 \nL 42.506182 -33.761761 \nL 43.114909 -33.761761 \nL 43.723636 -33.761761 \nL 44.332364 -33.761761 \nL 44.941091 -33.761761 \nL 45.549818 -33.761761 \nL 46.158545 -33.761761 \nL 46.767273 -33.761761 \nL 47.376 -33.761761 \nL 47.984727 -33.761761 \nL 48.593455 -33.761761 \nL 49.202182 -33.761761 \nL 49.810909 -33.761761 \nL 50.419636 -33.761761 \nL 51.028364 -33.761761 \nL 51.637091 -33.761761 \nL 52.245818 -33.761761 \nL 52.854545 -33.761761 \nL 53.463273 -33.761761 \nL 54.072 -33.761761 \nL 54.680727 -33.761761 \nL 55.289455 -33.761761 \nL 55.898182 -33.761761 \nL 56.506909 -33.761761 \nL 57.115636 -33.761761 \nL 57.724364 -33.761761 \nL 58.333091 -33.761761 \nL 58.941818 -33.761761 \nL 59.550545 -33.761761 \nL 60.159273 -33.761761 \nL 60.768 -33.761761 \nL 61.376727 -33.761761 \nL 61.985455 -33.761761 \nL 62.594182 -33.761761 \nL 63.202909 -33.761761 \nL 63.811636 -33.761761 \nL 64.420364 -33.761761 \nL 65.029091 -33.761761 \nL 65.637818 -33.761761 \nL 66.246545 -33.761761 \nL 66.855273 -33.761761 \nL 67.464 -33.761761 \nL 68.072727 -33.761761 \nL 68.681455 -33.761761 \nL 69.290182 -33.761761 \nL 69.898909 -33.761761 \nL 70.507636 -33.761761 \nL 71.116364 -33.761761 \nL 71.725091 -33.761761 \nL 72.333818 -33.761761 \nL 72.942545 -33.761761 \nL 73.551273 -33.761761 \nL 74.16 -33.761761 \nL 74.768727 -33.761761 \nL 75.377455 -33.761761 \nL 75.986182 -33.761761 \nL 76.594909 -33.761761 \nL 77.203636 -33.761761 \nL 77.812364 -33.761761 \nL 78.421091 -33.761761 \nL 79.029818 -33.761761 \nL 79.638545 -33.761761 \nL 80.247273 -33.761761 \nL 80.856 -33.761761 \nL 81.464727 -33.761761 \nL 82.073455 -33.761761 \nL 82.682182 -33.761761 \nL 83.290909 -33.761761 \nL 83.899636 -33.761761 \nL 84.508364 -33.761761 \nL 85.117091 -33.761761 \nL 85.725818 -33.761761 \nL 86.334545 -33.761761 \nL 86.943273 -33.761761 \nL 87.552 -33.761761 \nL 88.160727 -33.761761 \nL 88.769455 -33.761761 \nL 89.378182 -33.761761 \nL 89.986909 -33.761761 \nL 90.595636 -33.761761 \nL 91.204364 -33.761761 \nL 91.813091 -33.761761 \nL 92.421818 -33.761761 \nL 93.030545 -33.761761 \nL 93.639273 -33.761761 \nL 94.248 -33.761761 \nL 94.856727 -33.761761 \nL 95.465455 -33.761761 \nL 96.074182 -33.761761 \nL 96.682909 -33.761761 \nL 97.291636 -33.761761 \nL 97.900364 -33.761761 \nL 98.509091 -33.761761 \nL 99.117818 -33.761761 \nL 99.726545 -33.761761 \nL 100.335273 -33.761761 \nL 100.944 -33.761761 \nL 101.552727 -33.761761 \nL 102.161455 -33.761761 \nL 102.770182 -33.761761 \nL 103.378909 -33.761761 \nL 103.987636 -33.761761 \nL 104.596364 -33.761761 \nL 105.205091 -33.761761 \nL 105.813818 -33.761761 \nL 106.422545 -33.761761 \nL 107.031273 -33.761761 \nL 107.64 -33.761761 \nL 108.248727 -33.761761 \nL 108.857455 -33.761761 \nL 109.466182 -33.761761 \nL 110.074909 -33.761761 \nL 110.683636 -33.761761 \nL 111.292364 -33.761761 \nL 111.901091 -33.761761 \nL 112.509818 -33.761761 \nL 113.118545 -33.761761 \nL 113.727273 -33.761761 \nL 114.336 -33.761761 \nL 114.944727 -33.761761 \nL 115.553455 -33.761761 \nL 116.162182 -33.761761 \nL 116.770909 -33.761761 \nL 117.379636 -33.761761 \nL 117.988364 -33.761761 \nL 118.597091 -33.761761 \nL 119.205818 -33.761761 \nL 119.814545 -33.761761 \nL 120.423273 -33.761761 \nL 121.032 -33.761761 \nL 121.640727 -33.761761 \nL 122.249455 -33.761761 \nL 122.858182 -33.761761 \nL 123.466909 -33.761761 \nL 124.075636 -33.761761 \nL 124.684364 -33.761761 \nL 125.293091 -33.761761 \nL 125.901818 -33.761761 \nL 126.510545 -33.761761 \nL 127.119273 -33.761761 \nL 127.728 -33.761761 \nL 128.336727 -33.761761 \nL 128.945455 -33.761761 \nL 129.554182 -33.761761 \nL 130.162909 -33.761761 \nL 130.771636 -33.761761 \nL 131.380364 -33.761761 \nL 131.989091 -33.761761 \nL 132.597818 -33.761761 \nL 133.206545 -33.761761 \nL 133.815273 -33.761761 \nL 134.424 -33.761761 \nL 135.032727 -33.761761 \nL 135.641455 -33.761761 \nL 136.250182 -33.761761 \nL 136.858909 -33.761761 \nL 137.467636 -33.761761 \nL 138.076364 -33.761761 \nL 138.685091 -33.761761 \nL 139.293818 -33.761761 \nL 139.902545 -33.761761 \nL 140.511273 -33.761761 \nL 141.12 -33.761761 \nL 141.728727 -33.761761 \nL 142.337455 -33.761761 \nL 142.946182 -33.761761 \nL 143.554909 -33.761761 \nL 144.163636 -33.761761 \nL 144.772364 -33.761761 \nL 145.381091 -33.761761 \nL 145.989818 -33.761761 \nL 146.598545 -33.761761 \nL 147.207273 -33.761761 \nL 147.816 -33.761761 \nL 148.424727 -33.761761 \nL 149.033455 -33.761761 \nL 149.642182 -33.761761 \nL 150.250909 -33.761761 \nL 150.859636 -33.761761 \nL 151.468364 -33.761761 \nL 152.077091 -33.761761 \nL 152.685818 -33.761761 \nL 153.294545 -33.761761 \nL 153.903273 -33.761761 \nL 154.512 -33.761761 \nL 155.120727 -33.761761 \nL 155.729455 -33.761761 \nL 156.338182 -33.761761 \nL 156.946909 -33.761761 \nL 157.555636 -33.761761 \nL 158.164364 -33.761761 \nL 158.773091 -33.761761 \nL 159.381818 -33.761761 \nL 159.990545 -33.761761 \nL 160.599273 -33.761761 \nL 161.208 -33.761761 \nL 161.816727 -33.761761 \nL 162.425455 -33.761761 \nL 163.034182 -33.761761 \nL 163.642909 -33.761761 \nL 164.251636 -33.761761 \nL 164.860364 -33.761761 \nL 165.469091 -33.761761 \nL 166.077818 -33.761761 \nL 166.686545 -33.761761 \nL 167.295273 -33.761761 \nL 167.904 -33.761761 \nL 168.512727 -33.761761 \nL 169.121455 -33.761761 \nL 169.730182 -33.761761 \nL 170.338909 -33.761761 \nL 170.947636 -33.761761 \nL 171.556364 -33.761761 \nL 172.165091 -33.761761 \nL 172.773818 -33.761761 \nL 173.382545 -33.761761 \nL 173.991273 -33.761761 \nL 174.6 -33.761761 \nL 175.208727 -34.552452 \nL 175.817455 -35.343143 \nL 176.426182 -36.133834 \nL 177.034909 -36.924525 \nL 177.643636 -37.715216 \nL 178.252364 -38.505907 \nL 178.861091 -39.296598 \nL 179.469818 -40.087289 \nL 180.078545 -40.87798 \nL 180.687273 -41.66867 \nL 181.296 -42.459361 \nL 181.904727 -43.250052 \nL 182.513455 -44.040743 \nL 183.122182 -44.831434 \nL 183.730909 -45.622125 \nL 184.339636 -46.412816 \nL 184.948364 -47.203507 \nL 185.557091 -47.994198 \nL 186.165818 -48.784889 \nL 186.774545 -49.57558 \nL 187.383273 -50.36627 \nL 187.992 -51.156961 \nL 188.600727 -51.947652 \nL 189.209455 -52.738343 \nL 189.818182 -53.529034 \nL 190.426909 -54.319725 \nL 191.035636 -55.110416 \nL 191.644364 -55.901107 \nL 192.253091 -56.691798 \nL 192.861818 -57.482489 \nL 193.470545 -58.27318 \nL 194.079273 -59.06387 \nL 194.688 -59.854561 \nL 195.296727 -60.645252 \nL 195.905455 -61.435943 \nL 196.514182 -62.226634 \nL 197.122909 -63.017325 \nL 197.731636 -63.808016 \nL 198.340364 -64.598707 \nL 198.949091 -65.389398 \nL 199.557818 -66.180089 \nL 200.166545 -66.97078 \nL 200.775273 -67.76147 \nL 201.384 -68.552161 \nL 201.992727 -69.342852 \nL 202.601455 -70.133543 \nL 203.210182 -70.924234 \nL 203.818909 -71.714925 \nL 204.427636 -72.505616 \nL 205.036364 -73.296307 \nL 205.645091 -75.273034 \nL 206.253818 -77.249761 \nL 206.862545 -79.226489 \nL 207.471273 -81.203216 \nL 208.08 -83.179943 \nL 208.688727 -85.15667 \nL 209.297455 -87.133398 \nL 209.906182 -89.110125 \nL 210.514909 -91.086852 \nL 211.123636 -93.06358 \nL 211.732364 -95.040307 \nL 212.341091 -97.017034 \nL 212.949818 -98.993761 \nL 213.558545 -100.970489 \nL 214.167273 -102.947216 \nL 214.776 -104.923943 \nL 215.384727 -106.90067 \nL 215.993455 -108.877398 \nL 216.602182 -110.854125 \nL 217.210909 -112.830852 \nL 217.819636 -114.80758 \nL 218.428364 -116.784307 \nL 219.037091 -118.761034 \nL 219.645818 -120.737761 \nL 220.254545 -122.714489 \nL 220.863273 -124.691216 \nL 221.472 -126.667943 \nL 222.080727 -128.64467 \nL 222.689455 -130.621398 \nL 223.298182 -132.598125 \nL 223.906909 -134.574852 \nL 224.515636 -136.55158 \nL 225.124364 -138.528307 \nL 225.733091 -140.505034 \nL 226.341818 -142.481761 \nL 226.950545 -144.458489 \nL 227.559273 -146.435216 \nL 228.168 -148.411943 \nL 228.776727 -150.38867 \nL 229.385455 -152.365398 \nL 229.994182 -154.342125 \nL 230.602909 -156.318852 \nL 231.211636 -158.29558 \nL 231.820364 -160.272307 \nL 232.429091 -162.249034 \nL 233.037818 -164.225761 \nL 233.646545 -166.202489 \nL 234.255273 -168.179216 \nL 234.864 -170.155943 \nL 235.472727 -172.13267 \nL 236.081455 -172.13267 \nL 236.690182 -172.13267 \nL 237.298909 -172.13267 \nL 237.907636 -172.13267 \nL 238.516364 -172.13267 \nL 239.125091 -172.13267 \nL 239.733818 -172.13267 \nL 240.342545 -172.13267 \nL 240.951273 -172.13267 \nL 241.56 -172.13267 \nL 242.168727 -172.13267 \nL 242.777455 -172.13267 \nL 243.386182 -172.13267 \nL 243.994909 -172.13267 \nL 244.603636 -172.13267 \nL 245.212364 -172.13267 \nL 245.821091 -172.13267 \nL 246.429818 -172.13267 \nL 247.038545 -172.13267 \nL 247.647273 -172.13267 \nL 248.256 -172.13267 \nL 248.864727 -172.13267 \nL 249.473455 -172.13267 \nL 250.082182 -172.13267 \nL 250.690909 -172.13267 \nL 251.299636 -172.13267 \nL 251.908364 -172.13267 \nL 252.517091 -172.13267 \nL 253.125818 -172.13267 \nL 253.734545 -172.13267 \nL 254.343273 -172.13267 \nL 254.952 -172.13267 \nL 255.560727 -172.13267 \nL 256.169455 -172.13267 \nL 256.778182 -172.13267 \nL 257.386909 -172.13267 \nL 257.995636 -172.13267 \nL 258.604364 -172.13267 \nL 259.213091 -172.13267 \nL 259.821818 -172.13267 \nL 260.430545 -172.13267 \nL 261.039273 -172.13267 \nL 261.648 -172.13267 \nL 262.256727 -172.13267 \nL 262.865455 -172.13267 \nL 263.474182 -172.13267 \nL 264.082909 -172.13267 \nL 264.691636 -172.13267 \nL 265.300364 -172.13267 \nL 265.909091 -172.13267 \nL 266.517818 -172.13267 \nL 267.126545 -172.13267 \nL 267.735273 -172.13267 \nL 268.344 -172.13267 \nL 268.952727 -172.13267 \nL 269.561455 -172.13267 \nL 270.170182 -172.13267 \nL 270.778909 -172.13267 \nL 271.387636 -172.13267 \nL 271.996364 -172.13267 \nL 272.605091 -172.13267 \nL 273.213818 -172.13267 \nL 273.822545 -172.13267 \nL 274.431273 -172.13267 \nL 275.04 -172.13267 \nL 275.648727 -172.13267 \nL 276.257455 -172.13267 \nL 276.866182 -172.13267 \nL 277.474909 -172.13267 \nL 278.083636 -172.13267 \nL 278.692364 -172.13267 \nL 279.301091 -172.13267 \nL 279.909818 -172.13267 \nL 280.518545 -172.13267 \nL 281.127273 -172.13267 \nL 281.736 -172.13267 \nL 282.344727 -172.13267 \nL 282.953455 -172.13267 \nL 283.562182 -172.13267 \nL 284.170909 -172.13267 \nL 284.779636 -172.13267 \nL 285.388364 -172.13267 \nL 285.997091 -172.13267 \nL 286.605818 -172.13267 \nL 287.214545 -172.13267 \nL 287.823273 -172.13267 \nL 288.432 -172.13267 \nL 289.040727 -172.13267 \nL 289.649455 -172.13267 \nL 290.258182 -172.13267 \nL 290.866909 -172.13267 \nL 291.475636 -172.13267 \nL 292.084364 -172.13267 \nL 292.693091 -172.13267 \nL 293.301818 -172.13267 \nL 293.910545 -172.13267 \nL 294.519273 -172.13267 \nL 295.128 -172.13267 \nL 295.736727 -172.13267 \nL 296.345455 -172.13267 \nL 296.954182 -172.13267 \nL 297.562909 -172.13267 \nL 298.171636 -172.13267 \nL 298.780364 -172.13267 \nL 299.389091 -172.13267 \nL 299.997818 -172.13267 \nL 300.606545 -172.13267 \nL 301.215273 -172.13267 \nL 301.824 -172.13267 \nL 302.432727 -172.13267 \nL 303.041455 -172.13267 \nL 303.650182 -172.13267 \nL 304.258909 -172.13267 \nL 304.867636 -172.13267 \nL 305.476364 -172.13267 \nL 306.085091 -172.13267 \nL 306.693818 -172.13267 \nL 307.302545 -172.13267 \nL 307.911273 -172.13267 \nL 308.52 -172.13267 \nL 309.128727 -172.13267 \nL 309.737455 -172.13267 \nL 310.346182 -172.13267 \nL 310.954909 -172.13267 \nL 311.563636 -172.13267 \nL 312.172364 -172.13267 \nL 312.781091 -172.13267 \nL 313.389818 -172.13267 \nL 313.998545 -172.13267 \nL 314.607273 -172.13267 \nL 315.216 -172.13267 \nL 315.824727 -172.13267 \nL 316.433455 -172.13267 \nL 317.042182 -172.13267 \nL 317.650909 -172.13267 \nL 318.259636 -172.13267 \nL 318.868364 -172.13267 \nL 319.477091 -172.13267 \nL 320.085818 -172.13267 \nL 320.694545 -172.13267 \nL 321.303273 -172.13267 \nL 321.912 -172.13267 \nL 322.520727 -172.13267 \nL 323.129455 -172.13267 \nL 323.738182 -172.13267 \nL 324.346909 -172.13267 \nL 324.955636 -172.13267 \nL 325.564364 -172.13267 \nL 326.173091 -172.13267 \nL 326.781818 -172.13267 \nL 326.781818 -33.761761 \nL 326.781818 -33.761761 \nL 326.173091 -33.761761 \nL 325.564364 -33.761761 \nL 324.955636 -33.761761 \nL 324.346909 -33.761761 \nL 323.738182 -33.761761 \nL 323.129455 -33.761761 \nL 322.520727 -33.761761 \nL 321.912 -33.761761 \nL 321.303273 -33.761761 \nL 320.694545 -33.761761 \nL 320.085818 -33.761761 \nL 319.477091 -33.761761 \nL 318.868364 -33.761761 \nL 318.259636 -33.761761 \nL 317.650909 -33.761761 \nL 317.042182 -33.761761 \nL 316.433455 -33.761761 \nL 315.824727 -33.761761 \nL 315.216 -33.761761 \nL 314.607273 -33.761761 \nL 313.998545 -33.761761 \nL 313.389818 -33.761761 \nL 312.781091 -33.761761 \nL 312.172364 -33.761761 \nL 311.563636 -33.761761 \nL 310.954909 -33.761761 \nL 310.346182 -33.761761 \nL 309.737455 -33.761761 \nL 309.128727 -33.761761 \nL 308.52 -33.761761 \nL 307.911273 -33.761761 \nL 307.302545 -33.761761 \nL 306.693818 -33.761761 \nL 306.085091 -33.761761 \nL 305.476364 -33.761761 \nL 304.867636 -33.761761 \nL 304.258909 -33.761761 \nL 303.650182 -33.761761 \nL 303.041455 -33.761761 \nL 302.432727 -33.761761 \nL 301.824 -33.761761 \nL 301.215273 -33.761761 \nL 300.606545 -33.761761 \nL 299.997818 -33.761761 \nL 299.389091 -33.761761 \nL 298.780364 -33.761761 \nL 298.171636 -33.761761 \nL 297.562909 -33.761761 \nL 296.954182 -33.761761 \nL 296.345455 -33.761761 \nL 295.736727 -33.761761 \nL 295.128 -33.761761 \nL 294.519273 -33.761761 \nL 293.910545 -33.761761 \nL 293.301818 -33.761761 \nL 292.693091 -33.761761 \nL 292.084364 -33.761761 \nL 291.475636 -33.761761 \nL 290.866909 -33.761761 \nL 290.258182 -33.761761 \nL 289.649455 -33.761761 \nL 289.040727 -33.761761 \nL 288.432 -33.761761 \nL 287.823273 -33.761761 \nL 287.214545 -33.761761 \nL 286.605818 -33.761761 \nL 285.997091 -33.761761 \nL 285.388364 -33.761761 \nL 284.779636 -33.761761 \nL 284.170909 -33.761761 \nL 283.562182 -33.761761 \nL 282.953455 -33.761761 \nL 282.344727 -33.761761 \nL 281.736 -33.761761 \nL 281.127273 -33.761761 \nL 280.518545 -33.761761 \nL 279.909818 -33.761761 \nL 279.301091 -33.761761 \nL 278.692364 -33.761761 \nL 278.083636 -33.761761 \nL 277.474909 -33.761761 \nL 276.866182 -33.761761 \nL 276.257455 -33.761761 \nL 275.648727 -33.761761 \nL 275.04 -33.761761 \nL 274.431273 -33.761761 \nL 273.822545 -33.761761 \nL 273.213818 -33.761761 \nL 272.605091 -33.761761 \nL 271.996364 -33.761761 \nL 271.387636 -33.761761 \nL 270.778909 -33.761761 \nL 270.170182 -33.761761 \nL 269.561455 -33.761761 \nL 268.952727 -33.761761 \nL 268.344 -33.761761 \nL 267.735273 -33.761761 \nL 267.126545 -33.761761 \nL 266.517818 -33.761761 \nL 265.909091 -33.761761 \nL 265.300364 -33.761761 \nL 264.691636 -33.761761 \nL 264.082909 -33.761761 \nL 263.474182 -33.761761 \nL 262.865455 -33.761761 \nL 262.256727 -33.761761 \nL 261.648 -33.761761 \nL 261.039273 -33.761761 \nL 260.430545 -33.761761 \nL 259.821818 -33.761761 \nL 259.213091 -33.761761 \nL 258.604364 -33.761761 \nL 257.995636 -33.761761 \nL 257.386909 -33.761761 \nL 256.778182 -33.761761 \nL 256.169455 -33.761761 \nL 255.560727 -33.761761 \nL 254.952 -33.761761 \nL 254.343273 -33.761761 \nL 253.734545 -33.761761 \nL 253.125818 -33.761761 \nL 252.517091 -33.761761 \nL 251.908364 -33.761761 \nL 251.299636 -33.761761 \nL 250.690909 -33.761761 \nL 250.082182 -33.761761 \nL 249.473455 -33.761761 \nL 248.864727 -33.761761 \nL 248.256 -33.761761 \nL 247.647273 -33.761761 \nL 247.038545 -33.761761 \nL 246.429818 -33.761761 \nL 245.821091 -33.761761 \nL 245.212364 -33.761761 \nL 244.603636 -33.761761 \nL 243.994909 -33.761761 \nL 243.386182 -33.761761 \nL 242.777455 -33.761761 \nL 242.168727 -33.761761 \nL 241.56 -33.761761 \nL 240.951273 -33.761761 \nL 240.342545 -33.761761 \nL 239.733818 -33.761761 \nL 239.125091 -33.761761 \nL 238.516364 -33.761761 \nL 237.907636 -33.761761 \nL 237.298909 -33.761761 \nL 236.690182 -33.761761 \nL 236.081455 -33.761761 \nL 235.472727 -33.761761 \nL 234.864 -33.761761 \nL 234.255273 -33.761761 \nL 233.646545 -33.761761 \nL 233.037818 -33.761761 \nL 232.429091 -33.761761 \nL 231.820364 -33.761761 \nL 231.211636 -33.761761 \nL 230.602909 -33.761761 \nL 229.994182 -33.761761 \nL 229.385455 -33.761761 \nL 228.776727 -33.761761 \nL 228.168 -33.761761 \nL 227.559273 -33.761761 \nL 226.950545 -33.761761 \nL 226.341818 -33.761761 \nL 225.733091 -33.761761 \nL 225.124364 -33.761761 \nL 224.515636 -33.761761 \nL 223.906909 -33.761761 \nL 223.298182 -33.761761 \nL 222.689455 -33.761761 \nL 222.080727 -33.761761 \nL 221.472 -33.761761 \nL 220.863273 -33.761761 \nL 220.254545 -33.761761 \nL 219.645818 -33.761761 \nL 219.037091 -33.761761 \nL 218.428364 -33.761761 \nL 217.819636 -33.761761 \nL 217.210909 -33.761761 \nL 216.602182 -33.761761 \nL 215.993455 -33.761761 \nL 215.384727 -33.761761 \nL 214.776 -33.761761 \nL 214.167273 -33.761761 \nL 213.558545 -33.761761 \nL 212.949818 -33.761761 \nL 212.341091 -33.761761 \nL 211.732364 -33.761761 \nL 211.123636 -33.761761 \nL 210.514909 -33.761761 \nL 209.906182 -33.761761 \nL 209.297455 -33.761761 \nL 208.688727 -33.761761 \nL 208.08 -33.761761 \nL 207.471273 -33.761761 \nL 206.862545 -33.761761 \nL 206.253818 -33.761761 \nL 205.645091 -33.761761 \nL 205.036364 -33.761761 \nL 204.427636 -33.761761 \nL 203.818909 -33.761761 \nL 203.210182 -33.761761 \nL 202.601455 -33.761761 \nL 201.992727 -33.761761 \nL 201.384 -33.761761 \nL 200.775273 -33.761761 \nL 200.166545 -33.761761 \nL 199.557818 -33.761761 \nL 198.949091 -33.761761 \nL 198.340364 -33.761761 \nL 197.731636 -33.761761 \nL 197.122909 -33.761761 \nL 196.514182 -33.761761 \nL 195.905455 -33.761761 \nL 195.296727 -33.761761 \nL 194.688 -33.761761 \nL 194.079273 -33.761761 \nL 193.470545 -33.761761 \nL 192.861818 -33.761761 \nL 192.253091 -33.761761 \nL 191.644364 -33.761761 \nL 191.035636 -33.761761 \nL 190.426909 -33.761761 \nL 189.818182 -33.761761 \nL 189.209455 -33.761761 \nL 188.600727 -33.761761 \nL 187.992 -33.761761 \nL 187.383273 -33.761761 \nL 186.774545 -33.761761 \nL 186.165818 -33.761761 \nL 185.557091 -33.761761 \nL 184.948364 -33.761761 \nL 184.339636 -33.761761 \nL 183.730909 -33.761761 \nL 183.122182 -33.761761 \nL 182.513455 -33.761761 \nL 181.904727 -33.761761 \nL 181.296 -33.761761 \nL 180.687273 -33.761761 \nL 180.078545 -33.761761 \nL 179.469818 -33.761761 \nL 178.861091 -33.761761 \nL 178.252364 -33.761761 \nL 177.643636 -33.761761 \nL 177.034909 -33.761761 \nL 176.426182 -33.761761 \nL 175.817455 -33.761761 \nL 175.208727 -33.761761 \nL 174.6 -33.761761 \nL 173.991273 -33.761761 \nL 173.382545 -33.761761 \nL 172.773818 -33.761761 \nL 172.165091 -33.761761 \nL 171.556364 -33.761761 \nL 170.947636 -33.761761 \nL 170.338909 -33.761761 \nL 169.730182 -33.761761 \nL 169.121455 -33.761761 \nL 168.512727 -33.761761 \nL 167.904 -33.761761 \nL 167.295273 -33.761761 \nL 166.686545 -33.761761 \nL 166.077818 -33.761761 \nL 165.469091 -33.761761 \nL 164.860364 -33.761761 \nL 164.251636 -33.761761 \nL 163.642909 -33.761761 \nL 163.034182 -33.761761 \nL 162.425455 -33.761761 \nL 161.816727 -33.761761 \nL 161.208 -33.761761 \nL 160.599273 -33.761761 \nL 159.990545 -33.761761 \nL 159.381818 -33.761761 \nL 158.773091 -33.761761 \nL 158.164364 -33.761761 \nL 157.555636 -33.761761 \nL 156.946909 -33.761761 \nL 156.338182 -33.761761 \nL 155.729455 -33.761761 \nL 155.120727 -33.761761 \nL 154.512 -33.761761 \nL 153.903273 -33.761761 \nL 153.294545 -33.761761 \nL 152.685818 -33.761761 \nL 152.077091 -33.761761 \nL 151.468364 -33.761761 \nL 150.859636 -33.761761 \nL 150.250909 -33.761761 \nL 149.642182 -33.761761 \nL 149.033455 -33.761761 \nL 148.424727 -33.761761 \nL 147.816 -33.761761 \nL 147.207273 -33.761761 \nL 146.598545 -33.761761 \nL 145.989818 -33.761761 \nL 145.381091 -33.761761 \nL 144.772364 -33.761761 \nL 144.163636 -33.761761 \nL 143.554909 -33.761761 \nL 142.946182 -33.761761 \nL 142.337455 -33.761761 \nL 141.728727 -33.761761 \nL 141.12 -33.761761 \nL 140.511273 -33.761761 \nL 139.902545 -33.761761 \nL 139.293818 -33.761761 \nL 138.685091 -33.761761 \nL 138.076364 -33.761761 \nL 137.467636 -33.761761 \nL 136.858909 -33.761761 \nL 136.250182 -33.761761 \nL 135.641455 -33.761761 \nL 135.032727 -33.761761 \nL 134.424 -33.761761 \nL 133.815273 -33.761761 \nL 133.206545 -33.761761 \nL 132.597818 -33.761761 \nL 131.989091 -33.761761 \nL 131.380364 -33.761761 \nL 130.771636 -33.761761 \nL 130.162909 -33.761761 \nL 129.554182 -33.761761 \nL 128.945455 -33.761761 \nL 128.336727 -33.761761 \nL 127.728 -33.761761 \nL 127.119273 -33.761761 \nL 126.510545 -33.761761 \nL 125.901818 -33.761761 \nL 125.293091 -33.761761 \nL 124.684364 -33.761761 \nL 124.075636 -33.761761 \nL 123.466909 -33.761761 \nL 122.858182 -33.761761 \nL 122.249455 -33.761761 \nL 121.640727 -33.761761 \nL 121.032 -33.761761 \nL 120.423273 -33.761761 \nL 119.814545 -33.761761 \nL 119.205818 -33.761761 \nL 118.597091 -33.761761 \nL 117.988364 -33.761761 \nL 117.379636 -33.761761 \nL 116.770909 -33.761761 \nL 116.162182 -33.761761 \nL 115.553455 -33.761761 \nL 114.944727 -33.761761 \nL 114.336 -33.761761 \nL 113.727273 -33.761761 \nL 113.118545 -33.761761 \nL 112.509818 -33.761761 \nL 111.901091 -33.761761 \nL 111.292364 -33.761761 \nL 110.683636 -33.761761 \nL 110.074909 -33.761761 \nL 109.466182 -33.761761 \nL 108.857455 -33.761761 \nL 108.248727 -33.761761 \nL 107.64 -33.761761 \nL 107.031273 -33.761761 \nL 106.422545 -33.761761 \nL 105.813818 -33.761761 \nL 105.205091 -33.761761 \nL 104.596364 -33.761761 \nL 103.987636 -33.761761 \nL 103.378909 -33.761761 \nL 102.770182 -33.761761 \nL 102.161455 -33.761761 \nL 101.552727 -33.761761 \nL 100.944 -33.761761 \nL 100.335273 -33.761761 \nL 99.726545 -33.761761 \nL 99.117818 -33.761761 \nL 98.509091 -33.761761 \nL 97.900364 -33.761761 \nL 97.291636 -33.761761 \nL 96.682909 -33.761761 \nL 96.074182 -33.761761 \nL 95.465455 -33.761761 \nL 94.856727 -33.761761 \nL 94.248 -33.761761 \nL 93.639273 -33.761761 \nL 93.030545 -33.761761 \nL 92.421818 -33.761761 \nL 91.813091 -33.761761 \nL 91.204364 -33.761761 \nL 90.595636 -33.761761 \nL 89.986909 -33.761761 \nL 89.378182 -33.761761 \nL 88.769455 -33.761761 \nL 88.160727 -33.761761 \nL 87.552 -33.761761 \nL 86.943273 -33.761761 \nL 86.334545 -33.761761 \nL 85.725818 -33.761761 \nL 85.117091 -33.761761 \nL 84.508364 -33.761761 \nL 83.899636 -33.761761 \nL 83.290909 -33.761761 \nL 82.682182 -33.761761 \nL 82.073455 -33.761761 \nL 81.464727 -33.761761 \nL 80.856 -33.761761 \nL 80.247273 -33.761761 \nL 79.638545 -33.761761 \nL 79.029818 -33.761761 \nL 78.421091 -33.761761 \nL 77.812364 -33.761761 \nL 77.203636 -33.761761 \nL 76.594909 -33.761761 \nL 75.986182 -33.761761 \nL 75.377455 -33.761761 \nL 74.768727 -33.761761 \nL 74.16 -33.761761 \nL 73.551273 -33.761761 \nL 72.942545 -33.761761 \nL 72.333818 -33.761761 \nL 71.725091 -33.761761 \nL 71.116364 -33.761761 \nL 70.507636 -33.761761 \nL 69.898909 -33.761761 \nL 69.290182 -33.761761 \nL 68.681455 -33.761761 \nL 68.072727 -33.761761 \nL 67.464 -33.761761 \nL 66.855273 -33.761761 \nL 66.246545 -33.761761 \nL 65.637818 -33.761761 \nL 65.029091 -33.761761 \nL 64.420364 -33.761761 \nL 63.811636 -33.761761 \nL 63.202909 -33.761761 \nL 62.594182 -33.761761 \nL 61.985455 -33.761761 \nL 61.376727 -33.761761 \nL 60.768 -33.761761 \nL 60.159273 -33.761761 \nL 59.550545 -33.761761 \nL 58.941818 -33.761761 \nL 58.333091 -33.761761 \nL 57.724364 -33.761761 \nL 57.115636 -33.761761 \nL 56.506909 -33.761761 \nL 55.898182 -33.761761 \nL 55.289455 -33.761761 \nL 54.680727 -33.761761 \nL 54.072 -33.761761 \nL 53.463273 -33.761761 \nL 52.854545 -33.761761 \nL 52.245818 -33.761761 \nL 51.637091 -33.761761 \nL 51.028364 -33.761761 \nL 50.419636 -33.761761 \nL 49.810909 -33.761761 \nL 49.202182 -33.761761 \nL 48.593455 -33.761761 \nL 47.984727 -33.761761 \nL 47.376 -33.761761 \nL 46.767273 -33.761761 \nL 46.158545 -33.761761 \nL 45.549818 -33.761761 \nL 44.941091 -33.761761 \nL 44.332364 -33.761761 \nL 43.723636 -33.761761 \nL 43.114909 -33.761761 \nL 42.506182 -33.761761 \nL 41.897455 -33.761761 \nL 41.288727 -33.761761 \nL 40.68 -33.761761 \nL 40.071273 -33.761761 \nL 39.462545 -33.761761 \nL 38.853818 -33.761761 \nL 38.245091 -33.761761 \nL 37.636364 -33.761761 \nL 37.027636 -33.761761 \nL 36.418909 -33.761761 \nL 35.810182 -33.761761 \nL 35.201455 -33.761761 \nL 34.592727 -33.761761 \nL 33.984 -33.761761 \nL 33.375273 -33.761761 \nL 32.766545 -33.761761 \nL 32.157818 -33.761761 \nL 31.549091 -33.761761 \nL 30.940364 -33.761761 \nL 30.331636 -33.761761 \nL 29.722909 -33.761761 \nL 29.114182 -33.761761 \nL 28.505455 -33.761761 \nL 27.896727 -33.761761 \nL 27.288 -33.761761 \nL 26.679273 -33.761761 \nL 26.070545 -33.761761 \nL 25.461818 -33.761761 \nL 24.853091 -33.761761 \nL 24.244364 -33.761761 \nL 23.635636 -33.761761 \nL 23.026909 -33.761761 \nL 22.418182 -33.761761 \nz\n\" id=\"md78392bdd4\" style=\"stroke:#808080;stroke-opacity:0.7;\"/>\n    </defs>\n    <g clip-path=\"url(#p72bd333292)\">\n     <use style=\"fill:#808080;fill-opacity:0.7;stroke:#808080;stroke-opacity:0.7;\" x=\"0\" xlink:href=\"#md78392bdd4\" y=\"248.518125\"/>\n    </g>\n   </g>\n   <g id=\"matplotlib.axis_1\">\n    <g id=\"xtick_1\">\n     <g id=\"line2d_1\">\n      <defs>\n       <path d=\"M 0 0 \nL 0 3.5 \n\" id=\"m69063939c9\" style=\"stroke:#000000;stroke-width:0.8;\"/>\n      </defs>\n      <g>\n       <use style=\"stroke:#000000;stroke-width:0.8;\" x=\"22.418182\" xlink:href=\"#m69063939c9\" y=\"224.64\"/>\n      </g>\n     </g>\n     <g id=\"text_1\">\n      <!-- 150 -->\n      <g transform=\"translate(12.874432 239.238437)scale(0.1 -0.1)\">\n       <defs>\n        <path d=\"M 794 531 \nL 1825 531 \nL 1825 4091 \nL 703 3866 \nL 703 4441 \nL 1819 4666 \nL 2450 4666 \nL 2450 531 \nL 3481 531 \nL 3481 0 \nL 794 0 \nL 794 531 \nz\n\" id=\"DejaVuSans-31\" transform=\"scale(0.015625)\"/>\n        <path d=\"M 691 4666 \nL 3169 4666 \nL 3169 4134 \nL 1269 4134 \nL 1269 2991 \nQ 1406 3038 1543 3061 \nQ 1681 3084 1819 3084 \nQ 2600 3084 3056 2656 \nQ 3513 2228 3513 1497 \nQ 3513 744 3044 326 \nQ 2575 -91 1722 -91 \nQ 1428 -91 1123 -41 \nQ 819 9 494 109 \nL 494 744 \nQ 775 591 1075 516 \nQ 1375 441 1709 441 \nQ 2250 441 2565 725 \nQ 2881 1009 2881 1497 \nQ 2881 1984 2565 2268 \nQ 2250 2553 1709 2553 \nQ 1456 2553 1204 2497 \nQ 953 2441 691 2322 \nL 691 4666 \nz\n\" id=\"DejaVuSans-35\" transform=\"scale(0.015625)\"/>\n        <path d=\"M 2034 4250 \nQ 1547 4250 1301 3770 \nQ 1056 3291 1056 2328 \nQ 1056 1369 1301 889 \nQ 1547 409 2034 409 \nQ 2525 409 2770 889 \nQ 3016 1369 3016 2328 \nQ 3016 3291 2770 3770 \nQ 2525 4250 2034 4250 \nz\nM 2034 4750 \nQ 2819 4750 3233 4129 \nQ 3647 3509 3647 2328 \nQ 3647 1150 3233 529 \nQ 2819 -91 2034 -91 \nQ 1250 -91 836 529 \nQ 422 1150 422 2328 \nQ 422 3509 836 4129 \nQ 1250 4750 2034 4750 \nz\n\" id=\"DejaVuSans-30\" transform=\"scale(0.015625)\"/>\n       </defs>\n       <use xlink:href=\"#DejaVuSans-31\"/>\n       <use x=\"63.623047\" xlink:href=\"#DejaVuSans-35\"/>\n       <use x=\"127.246094\" xlink:href=\"#DejaVuSans-30\"/>\n      </g>\n     </g>\n    </g>\n    <g id=\"xtick_2\">\n     <g id=\"line2d_2\">\n      <g>\n       <use style=\"stroke:#000000;stroke-width:0.8;\" x=\"83.290909\" xlink:href=\"#m69063939c9\" y=\"224.64\"/>\n      </g>\n     </g>\n     <g id=\"text_2\">\n      <!-- 160 -->\n      <g transform=\"translate(73.747159 239.238437)scale(0.1 -0.1)\">\n       <defs>\n        <path d=\"M 2113 2584 \nQ 1688 2584 1439 2293 \nQ 1191 2003 1191 1497 \nQ 1191 994 1439 701 \nQ 1688 409 2113 409 \nQ 2538 409 2786 701 \nQ 3034 994 3034 1497 \nQ 3034 2003 2786 2293 \nQ 2538 2584 2113 2584 \nz\nM 3366 4563 \nL 3366 3988 \nQ 3128 4100 2886 4159 \nQ 2644 4219 2406 4219 \nQ 1781 4219 1451 3797 \nQ 1122 3375 1075 2522 \nQ 1259 2794 1537 2939 \nQ 1816 3084 2150 3084 \nQ 2853 3084 3261 2657 \nQ 3669 2231 3669 1497 \nQ 3669 778 3244 343 \nQ 2819 -91 2113 -91 \nQ 1303 -91 875 529 \nQ 447 1150 447 2328 \nQ 447 3434 972 4092 \nQ 1497 4750 2381 4750 \nQ 2619 4750 2861 4703 \nQ 3103 4656 3366 4563 \nz\n\" id=\"DejaVuSans-36\" transform=\"scale(0.015625)\"/>\n       </defs>\n       <use xlink:href=\"#DejaVuSans-31\"/>\n       <use x=\"63.623047\" xlink:href=\"#DejaVuSans-36\"/>\n       <use x=\"127.246094\" xlink:href=\"#DejaVuSans-30\"/>\n      </g>\n     </g>\n    </g>\n    <g id=\"xtick_3\">\n     <g id=\"line2d_3\">\n      <g>\n       <use style=\"stroke:#000000;stroke-width:0.8;\" x=\"144.163636\" xlink:href=\"#m69063939c9\" y=\"224.64\"/>\n      </g>\n     </g>\n     <g id=\"text_3\">\n      <!-- 170 -->\n      <g transform=\"translate(134.619886 239.238437)scale(0.1 -0.1)\">\n       <defs>\n        <path d=\"M 525 4666 \nL 3525 4666 \nL 3525 4397 \nL 1831 0 \nL 1172 0 \nL 2766 4134 \nL 525 4134 \nL 525 4666 \nz\n\" id=\"DejaVuSans-37\" transform=\"scale(0.015625)\"/>\n       </defs>\n       <use xlink:href=\"#DejaVuSans-31\"/>\n       <use x=\"63.623047\" xlink:href=\"#DejaVuSans-37\"/>\n       <use x=\"127.246094\" xlink:href=\"#DejaVuSans-30\"/>\n      </g>\n     </g>\n    </g>\n    <g id=\"xtick_4\">\n     <g id=\"line2d_4\">\n      <g>\n       <use style=\"stroke:#000000;stroke-width:0.8;\" x=\"205.036364\" xlink:href=\"#m69063939c9\" y=\"224.64\"/>\n      </g>\n     </g>\n     <g id=\"text_4\">\n      <!-- 180 -->\n      <g transform=\"translate(195.492614 239.238437)scale(0.1 -0.1)\">\n       <defs>\n        <path d=\"M 2034 2216 \nQ 1584 2216 1326 1975 \nQ 1069 1734 1069 1313 \nQ 1069 891 1326 650 \nQ 1584 409 2034 409 \nQ 2484 409 2743 651 \nQ 3003 894 3003 1313 \nQ 3003 1734 2745 1975 \nQ 2488 2216 2034 2216 \nz\nM 1403 2484 \nQ 997 2584 770 2862 \nQ 544 3141 544 3541 \nQ 544 4100 942 4425 \nQ 1341 4750 2034 4750 \nQ 2731 4750 3128 4425 \nQ 3525 4100 3525 3541 \nQ 3525 3141 3298 2862 \nQ 3072 2584 2669 2484 \nQ 3125 2378 3379 2068 \nQ 3634 1759 3634 1313 \nQ 3634 634 3220 271 \nQ 2806 -91 2034 -91 \nQ 1263 -91 848 271 \nQ 434 634 434 1313 \nQ 434 1759 690 2068 \nQ 947 2378 1403 2484 \nz\nM 1172 3481 \nQ 1172 3119 1398 2916 \nQ 1625 2713 2034 2713 \nQ 2441 2713 2670 2916 \nQ 2900 3119 2900 3481 \nQ 2900 3844 2670 4047 \nQ 2441 4250 2034 4250 \nQ 1625 4250 1398 4047 \nQ 1172 3844 1172 3481 \nz\n\" id=\"DejaVuSans-38\" transform=\"scale(0.015625)\"/>\n       </defs>\n       <use xlink:href=\"#DejaVuSans-31\"/>\n       <use x=\"63.623047\" xlink:href=\"#DejaVuSans-38\"/>\n       <use x=\"127.246094\" xlink:href=\"#DejaVuSans-30\"/>\n      </g>\n     </g>\n    </g>\n    <g id=\"xtick_5\">\n     <g id=\"line2d_5\">\n      <g>\n       <use style=\"stroke:#000000;stroke-width:0.8;\" x=\"265.909091\" xlink:href=\"#m69063939c9\" y=\"224.64\"/>\n      </g>\n     </g>\n     <g id=\"text_5\">\n      <!-- 190 -->\n      <g transform=\"translate(256.365341 239.238437)scale(0.1 -0.1)\">\n       <defs>\n        <path d=\"M 703 97 \nL 703 672 \nQ 941 559 1184 500 \nQ 1428 441 1663 441 \nQ 2288 441 2617 861 \nQ 2947 1281 2994 2138 \nQ 2813 1869 2534 1725 \nQ 2256 1581 1919 1581 \nQ 1219 1581 811 2004 \nQ 403 2428 403 3163 \nQ 403 3881 828 4315 \nQ 1253 4750 1959 4750 \nQ 2769 4750 3195 4129 \nQ 3622 3509 3622 2328 \nQ 3622 1225 3098 567 \nQ 2575 -91 1691 -91 \nQ 1453 -91 1209 -44 \nQ 966 3 703 97 \nz\nM 1959 2075 \nQ 2384 2075 2632 2365 \nQ 2881 2656 2881 3163 \nQ 2881 3666 2632 3958 \nQ 2384 4250 1959 4250 \nQ 1534 4250 1286 3958 \nQ 1038 3666 1038 3163 \nQ 1038 2656 1286 2365 \nQ 1534 2075 1959 2075 \nz\n\" id=\"DejaVuSans-39\" transform=\"scale(0.015625)\"/>\n       </defs>\n       <use xlink:href=\"#DejaVuSans-31\"/>\n       <use x=\"63.623047\" xlink:href=\"#DejaVuSans-39\"/>\n       <use x=\"127.246094\" xlink:href=\"#DejaVuSans-30\"/>\n      </g>\n     </g>\n    </g>\n    <g id=\"xtick_6\">\n     <g id=\"line2d_6\">\n      <g>\n       <use style=\"stroke:#000000;stroke-width:0.8;\" x=\"326.781818\" xlink:href=\"#m69063939c9\" y=\"224.64\"/>\n      </g>\n     </g>\n     <g id=\"text_6\">\n      <!-- 200 -->\n      <g transform=\"translate(317.238068 239.238437)scale(0.1 -0.1)\">\n       <defs>\n        <path d=\"M 1228 531 \nL 3431 531 \nL 3431 0 \nL 469 0 \nL 469 531 \nQ 828 903 1448 1529 \nQ 2069 2156 2228 2338 \nQ 2531 2678 2651 2914 \nQ 2772 3150 2772 3378 \nQ 2772 3750 2511 3984 \nQ 2250 4219 1831 4219 \nQ 1534 4219 1204 4116 \nQ 875 4013 500 3803 \nL 500 4441 \nQ 881 4594 1212 4672 \nQ 1544 4750 1819 4750 \nQ 2544 4750 2975 4387 \nQ 3406 4025 3406 3419 \nQ 3406 3131 3298 2873 \nQ 3191 2616 2906 2266 \nQ 2828 2175 2409 1742 \nQ 1991 1309 1228 531 \nz\n\" id=\"DejaVuSans-32\" transform=\"scale(0.015625)\"/>\n       </defs>\n       <use xlink:href=\"#DejaVuSans-32\"/>\n       <use x=\"63.623047\" xlink:href=\"#DejaVuSans-30\"/>\n       <use x=\"127.246094\" xlink:href=\"#DejaVuSans-30\"/>\n      </g>\n     </g>\n    </g>\n   </g>\n   <g id=\"matplotlib.axis_2\">\n    <g id=\"ytick_1\">\n     <g id=\"line2d_7\">\n      <defs>\n       <path d=\"M 0 0 \nL 3.5 0 \n\" id=\"m9b4fae5a9b\" style=\"stroke:#000000;stroke-width:0.8;\"/>\n      </defs>\n      <g>\n       <use style=\"stroke:#000000;stroke-width:0.8;\" x=\"342\" xlink:href=\"#m9b4fae5a9b\" y=\"214.756364\"/>\n      </g>\n     </g>\n     <g id=\"text_7\">\n      <!-- 0.0 -->\n      <g transform=\"translate(349 218.555582)scale(0.1 -0.1)\">\n       <defs>\n        <path d=\"M 684 794 \nL 1344 794 \nL 1344 0 \nL 684 0 \nL 684 794 \nz\n\" id=\"DejaVuSans-2e\" transform=\"scale(0.015625)\"/>\n       </defs>\n       <use xlink:href=\"#DejaVuSans-30\"/>\n       <use x=\"63.623047\" xlink:href=\"#DejaVuSans-2e\"/>\n       <use x=\"95.410156\" xlink:href=\"#DejaVuSans-30\"/>\n      </g>\n     </g>\n    </g>\n    <g id=\"ytick_2\">\n     <g id=\"line2d_8\">\n      <g>\n       <use style=\"stroke:#000000;stroke-width:0.8;\" x=\"342\" xlink:href=\"#m9b4fae5a9b\" y=\"175.221818\"/>\n      </g>\n     </g>\n     <g id=\"text_8\">\n      <!-- 0.2 -->\n      <g transform=\"translate(349 179.021037)scale(0.1 -0.1)\">\n       <use xlink:href=\"#DejaVuSans-30\"/>\n       <use x=\"63.623047\" xlink:href=\"#DejaVuSans-2e\"/>\n       <use x=\"95.410156\" xlink:href=\"#DejaVuSans-32\"/>\n      </g>\n     </g>\n    </g>\n    <g id=\"ytick_3\">\n     <g id=\"line2d_9\">\n      <g>\n       <use style=\"stroke:#000000;stroke-width:0.8;\" x=\"342\" xlink:href=\"#m9b4fae5a9b\" y=\"135.687273\"/>\n      </g>\n     </g>\n     <g id=\"text_9\">\n      <!-- 0.4 -->\n      <g transform=\"translate(349 139.486491)scale(0.1 -0.1)\">\n       <defs>\n        <path d=\"M 2419 4116 \nL 825 1625 \nL 2419 1625 \nL 2419 4116 \nz\nM 2253 4666 \nL 3047 4666 \nL 3047 1625 \nL 3713 1625 \nL 3713 1100 \nL 3047 1100 \nL 3047 0 \nL 2419 0 \nL 2419 1100 \nL 313 1100 \nL 313 1709 \nL 2253 4666 \nz\n\" id=\"DejaVuSans-34\" transform=\"scale(0.015625)\"/>\n       </defs>\n       <use xlink:href=\"#DejaVuSans-30\"/>\n       <use x=\"63.623047\" xlink:href=\"#DejaVuSans-2e\"/>\n       <use x=\"95.410156\" xlink:href=\"#DejaVuSans-34\"/>\n      </g>\n     </g>\n    </g>\n    <g id=\"ytick_4\">\n     <g id=\"line2d_10\">\n      <g>\n       <use style=\"stroke:#000000;stroke-width:0.8;\" x=\"342\" xlink:href=\"#m9b4fae5a9b\" y=\"96.152727\"/>\n      </g>\n     </g>\n     <g id=\"text_10\">\n      <!-- 0.6 -->\n      <g transform=\"translate(349 99.951946)scale(0.1 -0.1)\">\n       <use xlink:href=\"#DejaVuSans-30\"/>\n       <use x=\"63.623047\" xlink:href=\"#DejaVuSans-2e\"/>\n       <use x=\"95.410156\" xlink:href=\"#DejaVuSans-36\"/>\n      </g>\n     </g>\n    </g>\n    <g id=\"ytick_5\">\n     <g id=\"line2d_11\">\n      <g>\n       <use style=\"stroke:#000000;stroke-width:0.8;\" x=\"342\" xlink:href=\"#m9b4fae5a9b\" y=\"56.618182\"/>\n      </g>\n     </g>\n     <g id=\"text_11\">\n      <!-- 0.8 -->\n      <g transform=\"translate(349 60.417401)scale(0.1 -0.1)\">\n       <use xlink:href=\"#DejaVuSans-30\"/>\n       <use x=\"63.623047\" xlink:href=\"#DejaVuSans-2e\"/>\n       <use x=\"95.410156\" xlink:href=\"#DejaVuSans-38\"/>\n      </g>\n     </g>\n    </g>\n    <g id=\"ytick_6\">\n     <g id=\"line2d_12\">\n      <g>\n       <use style=\"stroke:#000000;stroke-width:0.8;\" x=\"342\" xlink:href=\"#m9b4fae5a9b\" y=\"17.083636\"/>\n      </g>\n     </g>\n     <g id=\"text_12\">\n      <!-- 1.0 -->\n      <g transform=\"translate(349 20.882855)scale(0.1 -0.1)\">\n       <use xlink:href=\"#DejaVuSans-31\"/>\n       <use x=\"63.623047\" xlink:href=\"#DejaVuSans-2e\"/>\n       <use x=\"95.410156\" xlink:href=\"#DejaVuSans-30\"/>\n      </g>\n     </g>\n    </g>\n   </g>\n   <g id=\"LineCollection_1\">\n    <path clip-path=\"url(#p72bd333292)\" d=\"M 235.472727 214.756364 \nL 235.472727 17.083636 \n\" style=\"fill:none;stroke:#ff0000;stroke-width:2;\"/>\n   </g>\n   <g id=\"line2d_13\">\n    <path clip-path=\"url(#p72bd333292)\" d=\"M 22.418182 214.756364 \nL 174.6 214.756364 \nL 205.036364 175.221818 \nL 235.472727 76.385455 \nL 265.909091 17.083636 \nL 326.781818 17.083636 \nL 326.781818 17.083636 \n\" style=\"fill:none;stroke:#000000;stroke-linecap:square;\"/>\n   </g>\n   <g id=\"patch_3\">\n    <path d=\"M 7.2 224.64 \nL 342 224.64 \n\" style=\"fill:none;stroke:#808080;stroke-linecap:square;stroke-linejoin:miter;stroke-width:0.8;\"/>\n   </g>\n  </g>\n </g>\n <defs>\n  <clipPath id=\"p72bd333292\">\n   <rect height=\"217.44\" width=\"334.8\" x=\"7.2\" y=\"7.2\"/>\n  </clipPath>\n </defs>\n</svg>\n",
      "image/png": "[encoded data removed]"
     },
     "metadata": {
      "needs_background": "light"
     }
    }
   ],
   "source": [
    "    >>> from fuzzy_expert.variable import FuzzyVariable\n",
    "    >>> v = FuzzyVariable(\n",
    "    ...     universe_range=(150, 200),\n",
    "    ...     terms={\n",
    "    ...         \"High\": [(175, 0), (180, 0.2), (185, 0.7), (190, 1)],\n",
    "    ...         \"Low\": [(155, 1), (160, 0.8), (165, 0.5), (170, 0.2), (175, 0)],\n",
    "    ...     },\n",
    "    ... )\n",
    "    >>> v.plot_input(value=185, fuzzyset='High', view_xaxis=True, view_yaxis='right')"
   ]
  },
  {
   "cell_type": "code",
   "execution_count": 40,
   "metadata": {},
   "outputs": [
    {
     "output_type": "execute_result",
     "data": {
      "text/plain": [
       "IF  score IS High\n",
       "    AND ratio IS Goodr\n",
       "    AND credit IS Goodc\n",
       "THEN\n",
       "    decision IS Approve\n",
       "CF = 1.00\n",
       "Threshold-CF = 1.00"
      ]
     },
     "metadata": {},
     "execution_count": 40
    }
   ],
   "source": [
    "    >>> from fuzzy_expert.rule import FuzzyRule\n",
    "    >>> rule = FuzzyRule(\n",
    "    ...     premise=[\n",
    "    ...         (\"score\", \"High\"),\n",
    "    ...         (\"AND\", \"ratio\", \"Goodr\"),\n",
    "    ...         (\"AND\", \"credit\", \"Goodc\"),\n",
    "    ...     ],\n",
    "    ...     consequence=[(\"decision\", \"Approve\")],\n",
    "    ... )\n",
    "    >>> rule"
   ]
  },
  {
   "cell_type": "code",
   "execution_count": null,
   "metadata": {},
   "outputs": [],
   "source": []
  }
 ]
}